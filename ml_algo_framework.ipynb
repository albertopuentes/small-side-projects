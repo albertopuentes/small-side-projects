{
 "cells": [
  {
   "cell_type": "code",
   "execution_count": null,
   "metadata": {},
   "outputs": [],
   "source": [
    "import numpy as np\n",
    "import pandas as pd"
   ]
  },
  {
   "cell_type": "markdown",
   "metadata": {},
   "source": [
    "A machnine learning framework for algorithmic trading"
   ]
  },
  {
   "cell_type": "code",
   "execution_count": null,
   "metadata": {},
   "outputs": [],
   "source": [
    "def compute_future_return(y_next, y_current):\n",
    "    '''conputes and returns the percentage change between y_next & y_current\n",
    "    Args: y_next (float): next value\n",
    "          y_current (float): current value\n",
    "          float: percentage change between curren and next value '''\n",
    "    if y_current!= 0:\n",
    "        return (y_next-y_current)/y_current\n",
    "    else:\n",
    "        return np.nan"
   ]
  },
  {
   "cell_type": "code",
   "execution_count": null,
   "metadata": {},
   "outputs": [],
   "source": [
    "def get_is_take_profit_hitP_first(close_price_list, take_profit, stop_loss):\n",
    "    '''given a pandas.Series object containint a sequence of close prices, \n",
    "        this function retruns a list where each element i is equal to 1 if the \n",
    "        return_threshold is hit before stop_loss.  If that's not the case \n",
    "        (the stop loss is hit first or neither o fthem are hlit before the last\n",
    "        timestamp), the element is is equal to 0. \n",
    "    Args: close_price_list(list): Close price\n",
    "          take_profit (float): Threshold that decides ilf we should buy at t if it \n",
    "              is hit by return(t,t') for t'>=t\n",
    "          stop_loss (float): Stop Loss. if thle stop loss is hit then we dont't look further.\n",
    "          \n",
    "    Returns: list: each element i is equal to 1 if take_profit is hit before stop_loss at \n",
    "                   time t>t-i.  Otherwise, 0 \n",
    "         list: each element is is equal to the number of iterations before either\n",
    "            take_profit or stop_loss is hit'''\n",
    "    is_take_profit_hit_first_list = []\n",
    "    nb_samples = len(close_price_list)\n",
    "    patience_list = []\n",
    "    for i in range(nb_samples):\n",
    "        is_take_profit_hit_first_i = 0\n",
    "        j = 1\n",
    "        while i + j < nb_samples:\n",
    "            return at_t_prime = compute_future_return(close_price_list[i+j], close_price_list[i])\n",
    "            if return_at_t_prime <= stop_loss:\n",
    "                break\n",
    "            elif return_at_t_prime >= take_profit:\n",
    "                is_take_profit_hit_first_i = 1\n",
    "                break\n",
    "            j+= 1\n",
    "        if i+ j < nb_samples:\n",
    "            patience_list.append(j)\n",
    "        else:\n",
    "            patience_list.append(np.nan)\n",
    "        is_take_profit_hit_first_list.append(is_take_profit_hit_first_i)\n",
    "    return is_take_profit_hit_first_list, patience_list\n",
    "                                                \n",
    "        \n",
    "    "
   ]
  },
  {
   "cell_type": "markdown",
   "metadata": {},
   "source": [
    "## Acquire Data"
   ]
  },
  {
   "cell_type": "code",
   "execution_count": null,
   "metadata": {},
   "outputs": [],
   "source": [
    "data = pd.read_"
   ]
  }
 ],
 "metadata": {
  "kernelspec": {
   "display_name": "Python 3",
   "language": "python",
   "name": "python3"
  },
  "language_info": {
   "codemirror_mode": {
    "name": "ipython",
    "version": 3
   },
   "file_extension": ".py",
   "mimetype": "text/x-python",
   "name": "python",
   "nbconvert_exporter": "python",
   "pygments_lexer": "ipython3",
   "version": "3.8.5"
  }
 },
 "nbformat": 4,
 "nbformat_minor": 4
}
