{
 "cells": [
  {
   "cell_type": "code",
   "execution_count": 15,
   "metadata": {},
   "outputs": [],
   "source": [
    "# Data manipulation libraries\n",
    "import pandas as pd\n",
    "import numpy as np\n",
    "\n",
    "# Machine learning libraries\n",
    "from sklearn.svm import SVC\n",
    "from sklearn.preprocessing import StandardScaler\n",
    "from sklearn.model_selection import RandomizedSearchCV\n",
    "from sklearn.model_selection import TimeSeriesSplit\n",
    "from sklearn.pipeline import Pipeline\n",
    "from sklearn.metrics import confusion_matrix\n",
    "from sklearn.metrics import classification_report\n",
    "\n",
    "# Technical indicator library\n",
    "#import talib as ta\n",
    "\n",
    "# Data import library\n",
    "import yfinance as yf\n",
    "\n",
    "#Data visualisation\n",
    "import plotly.graph_objs as go\n",
    "\n",
    "#Data Source\n",
    "import tradingeconomics as te"
   ]
  },
  {
   "cell_type": "code",
   "execution_count": 10,
   "metadata": {},
   "outputs": [
    {
     "name": "stdout",
     "output_type": "stream",
     "text": [
      "[*********************100%***********************]  1 of 1 completed\n",
      "[*********************100%***********************]  1 of 1 completed\n"
     ]
    }
   ],
   "source": [
    "# Gather last 22yrs of data\n",
    "SPY = yf.download('SPY', period = '50y', interval = '1wk')\n",
    "NSD = yf.download('SPY', period = '50y', interval = '1wk')"
   ]
  },
  {
   "cell_type": "code",
   "execution_count": 13,
   "metadata": {},
   "outputs": [
    {
     "data": {
      "text/html": [
       "<div>\n",
       "<style scoped>\n",
       "    .dataframe tbody tr th:only-of-type {\n",
       "        vertical-align: middle;\n",
       "    }\n",
       "\n",
       "    .dataframe tbody tr th {\n",
       "        vertical-align: top;\n",
       "    }\n",
       "\n",
       "    .dataframe thead th {\n",
       "        text-align: right;\n",
       "    }\n",
       "</style>\n",
       "<table border=\"1\" class=\"dataframe\">\n",
       "  <thead>\n",
       "    <tr style=\"text-align: right;\">\n",
       "      <th></th>\n",
       "      <th>Open</th>\n",
       "      <th>High</th>\n",
       "      <th>Low</th>\n",
       "      <th>Close</th>\n",
       "      <th>Adj Close</th>\n",
       "      <th>Volume</th>\n",
       "    </tr>\n",
       "    <tr>\n",
       "      <th>Date</th>\n",
       "      <th></th>\n",
       "      <th></th>\n",
       "      <th></th>\n",
       "      <th></th>\n",
       "      <th></th>\n",
       "      <th></th>\n",
       "    </tr>\n",
       "  </thead>\n",
       "  <tbody>\n",
       "    <tr>\n",
       "      <th>1993-01-25</th>\n",
       "      <td>43.96875</td>\n",
       "      <td>43.96875</td>\n",
       "      <td>43.75000</td>\n",
       "      <td>43.93750</td>\n",
       "      <td>25.627352</td>\n",
       "      <td>1003200.0</td>\n",
       "    </tr>\n",
       "    <tr>\n",
       "      <th>1993-02-01</th>\n",
       "      <td>43.96875</td>\n",
       "      <td>45.09375</td>\n",
       "      <td>43.96875</td>\n",
       "      <td>44.96875</td>\n",
       "      <td>26.228857</td>\n",
       "      <td>2234800.0</td>\n",
       "    </tr>\n",
       "    <tr>\n",
       "      <th>1993-02-08</th>\n",
       "      <td>44.96875</td>\n",
       "      <td>45.12500</td>\n",
       "      <td>44.53125</td>\n",
       "      <td>44.59375</td>\n",
       "      <td>26.010120</td>\n",
       "      <td>1159800.0</td>\n",
       "    </tr>\n",
       "    <tr>\n",
       "      <th>1993-02-15</th>\n",
       "      <td>44.46875</td>\n",
       "      <td>44.46875</td>\n",
       "      <td>42.81250</td>\n",
       "      <td>43.56250</td>\n",
       "      <td>25.408617</td>\n",
       "      <td>998700.0</td>\n",
       "    </tr>\n",
       "    <tr>\n",
       "      <th>1993-02-22</th>\n",
       "      <td>43.68750</td>\n",
       "      <td>44.43750</td>\n",
       "      <td>43.46875</td>\n",
       "      <td>44.40625</td>\n",
       "      <td>25.900763</td>\n",
       "      <td>1024300.0</td>\n",
       "    </tr>\n",
       "  </tbody>\n",
       "</table>\n",
       "</div>"
      ],
      "text/plain": [
       "                Open      High       Low     Close  Adj Close     Volume\n",
       "Date                                                                    \n",
       "1993-01-25  43.96875  43.96875  43.75000  43.93750  25.627352  1003200.0\n",
       "1993-02-01  43.96875  45.09375  43.96875  44.96875  26.228857  2234800.0\n",
       "1993-02-08  44.96875  45.12500  44.53125  44.59375  26.010120  1159800.0\n",
       "1993-02-15  44.46875  44.46875  42.81250  43.56250  25.408617   998700.0\n",
       "1993-02-22  43.68750  44.43750  43.46875  44.40625  25.900763  1024300.0"
      ]
     },
     "execution_count": 13,
     "metadata": {},
     "output_type": "execute_result"
    }
   ],
   "source": [
    "# Data does not go back far enough\n",
    "SPY.head()"
   ]
  },
  {
   "cell_type": "code",
   "execution_count": 16,
   "metadata": {},
   "outputs": [
    {
     "data": {
      "text/plain": [
       "'You are logged in as a guest:guest'"
      ]
     },
     "execution_count": 16,
     "metadata": {},
     "output_type": "execute_result"
    }
   ],
   "source": [
    "# temp login to tradingeconomics\n",
    "te.login()"
   ]
  },
  {
   "cell_type": "code",
   "execution_count": null,
   "metadata": {},
   "outputs": [],
   "source": []
  }
 ],
 "metadata": {
  "kernelspec": {
   "display_name": "Python 3",
   "language": "python",
   "name": "python3"
  },
  "language_info": {
   "codemirror_mode": {
    "name": "ipython",
    "version": 3
   },
   "file_extension": ".py",
   "mimetype": "text/x-python",
   "name": "python",
   "nbconvert_exporter": "python",
   "pygments_lexer": "ipython3",
   "version": "3.8.5"
  }
 },
 "nbformat": 4,
 "nbformat_minor": 4
}
