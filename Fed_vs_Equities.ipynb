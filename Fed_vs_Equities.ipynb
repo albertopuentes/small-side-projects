{
 "cells": [
  {
   "cell_type": "code",
   "execution_count": 27,
   "metadata": {},
   "outputs": [],
   "source": [
    "# Data manipulation libraries\n",
    "import pandas as pd\n",
    "import numpy as np\n",
    "\n",
    "# API \n",
    "from api import FED_API\n",
    "import requests\n",
    "\n",
    "# Machine learning libraries\n",
    "from sklearn.svm import SVC\n",
    "from sklearn.preprocessing import StandardScaler\n",
    "from sklearn.model_selection import RandomizedSearchCV\n",
    "from sklearn.model_selection import TimeSeriesSplit\n",
    "from sklearn.pipeline import Pipeline\n",
    "from sklearn.metrics import confusion_matrix\n",
    "from sklearn.metrics import classification_report\n",
    "\n",
    "# Technical indicator library\n",
    "#import talib as ta\n",
    "\n",
    "# Data import library\n",
    "import yfinance as yf\n",
    "\n",
    "#Data visualisation\n",
    "import plotly.graph_objs as go\n",
    "import matplotlib.pyplot as plt\n",
    "import seaborn as sns\n",
    "\n",
    "#Data Source\n",
    "import tradingeconomics as te"
   ]
  },
  {
   "cell_type": "code",
   "execution_count": 28,
   "metadata": {},
   "outputs": [
    {
     "name": "stdout",
     "output_type": "stream",
     "text": [
      "[*********************100%***********************]  1 of 1 completed\n",
      "[*********************100%***********************]  1 of 1 completed\n"
     ]
    }
   ],
   "source": [
    "# Gather last 22yrs of data\n",
    "SPY = yf.download('SPY', period = '50y', interval = '1wk')\n",
    "NSD = yf.download('SPY', period = '50y', interval = '1wk')"
   ]
  },
  {
   "cell_type": "code",
   "execution_count": 29,
   "metadata": {},
   "outputs": [
    {
     "data": {
      "text/html": [
       "<div>\n",
       "<style scoped>\n",
       "    .dataframe tbody tr th:only-of-type {\n",
       "        vertical-align: middle;\n",
       "    }\n",
       "\n",
       "    .dataframe tbody tr th {\n",
       "        vertical-align: top;\n",
       "    }\n",
       "\n",
       "    .dataframe thead th {\n",
       "        text-align: right;\n",
       "    }\n",
       "</style>\n",
       "<table border=\"1\" class=\"dataframe\">\n",
       "  <thead>\n",
       "    <tr style=\"text-align: right;\">\n",
       "      <th></th>\n",
       "      <th>Open</th>\n",
       "      <th>High</th>\n",
       "      <th>Low</th>\n",
       "      <th>Close</th>\n",
       "      <th>Adj Close</th>\n",
       "      <th>Volume</th>\n",
       "    </tr>\n",
       "    <tr>\n",
       "      <th>Date</th>\n",
       "      <th></th>\n",
       "      <th></th>\n",
       "      <th></th>\n",
       "      <th></th>\n",
       "      <th></th>\n",
       "      <th></th>\n",
       "    </tr>\n",
       "  </thead>\n",
       "  <tbody>\n",
       "    <tr>\n",
       "      <th>1993-01-25</th>\n",
       "      <td>43.96875</td>\n",
       "      <td>43.96875</td>\n",
       "      <td>43.75000</td>\n",
       "      <td>43.93750</td>\n",
       "      <td>25.627346</td>\n",
       "      <td>1003200.0</td>\n",
       "    </tr>\n",
       "    <tr>\n",
       "      <th>1993-02-01</th>\n",
       "      <td>43.96875</td>\n",
       "      <td>45.09375</td>\n",
       "      <td>43.96875</td>\n",
       "      <td>44.96875</td>\n",
       "      <td>26.228844</td>\n",
       "      <td>2234800.0</td>\n",
       "    </tr>\n",
       "    <tr>\n",
       "      <th>1993-02-08</th>\n",
       "      <td>44.96875</td>\n",
       "      <td>45.12500</td>\n",
       "      <td>44.53125</td>\n",
       "      <td>44.59375</td>\n",
       "      <td>26.010117</td>\n",
       "      <td>1159800.0</td>\n",
       "    </tr>\n",
       "    <tr>\n",
       "      <th>1993-02-15</th>\n",
       "      <td>44.46875</td>\n",
       "      <td>44.46875</td>\n",
       "      <td>42.81250</td>\n",
       "      <td>43.56250</td>\n",
       "      <td>25.408623</td>\n",
       "      <td>998700.0</td>\n",
       "    </tr>\n",
       "    <tr>\n",
       "      <th>1993-02-22</th>\n",
       "      <td>43.68750</td>\n",
       "      <td>44.43750</td>\n",
       "      <td>43.46875</td>\n",
       "      <td>44.40625</td>\n",
       "      <td>25.900751</td>\n",
       "      <td>1024300.0</td>\n",
       "    </tr>\n",
       "  </tbody>\n",
       "</table>\n",
       "</div>"
      ],
      "text/plain": [
       "                Open      High       Low     Close  Adj Close     Volume\n",
       "Date                                                                    \n",
       "1993-01-25  43.96875  43.96875  43.75000  43.93750  25.627346  1003200.0\n",
       "1993-02-01  43.96875  45.09375  43.96875  44.96875  26.228844  2234800.0\n",
       "1993-02-08  44.96875  45.12500  44.53125  44.59375  26.010117  1159800.0\n",
       "1993-02-15  44.46875  44.46875  42.81250  43.56250  25.408623   998700.0\n",
       "1993-02-22  43.68750  44.43750  43.46875  44.40625  25.900751  1024300.0"
      ]
     },
     "execution_count": 29,
     "metadata": {},
     "output_type": "execute_result"
    }
   ],
   "source": [
    "# Data does not go back far enough\n",
    "SPY.head()"
   ]
  },
  {
   "cell_type": "code",
   "execution_count": 30,
   "metadata": {},
   "outputs": [
    {
     "data": {
      "text/plain": [
       "'You are logged in as a guest:guest'"
      ]
     },
     "execution_count": 30,
     "metadata": {},
     "output_type": "execute_result"
    }
   ],
   "source": [
    "# temp login to tradingeconomics\n",
    "te.login()"
   ]
  },
  {
   "cell_type": "code",
   "execution_count": 31,
   "metadata": {},
   "outputs": [
    {
     "name": "stdout",
     "output_type": "stream",
     "text": [
      "Without country indication only a list of available indicators will be returned...\n"
     ]
    },
    {
     "data": {
      "text/html": [
       "<div>\n",
       "<style scoped>\n",
       "    .dataframe tbody tr th:only-of-type {\n",
       "        vertical-align: middle;\n",
       "    }\n",
       "\n",
       "    .dataframe tbody tr th {\n",
       "        vertical-align: top;\n",
       "    }\n",
       "\n",
       "    .dataframe thead th {\n",
       "        text-align: right;\n",
       "    }\n",
       "</style>\n",
       "<table border=\"1\" class=\"dataframe\">\n",
       "  <thead>\n",
       "    <tr style=\"text-align: right;\">\n",
       "      <th></th>\n",
       "      <th>Category</th>\n",
       "      <th>CategoryGroup</th>\n",
       "    </tr>\n",
       "  </thead>\n",
       "  <tbody>\n",
       "    <tr>\n",
       "      <th>0</th>\n",
       "      <td>ADP Employment Change</td>\n",
       "      <td>Labour</td>\n",
       "    </tr>\n",
       "    <tr>\n",
       "      <th>1</th>\n",
       "      <td>ANZ Roy Morgan Consumer Confidence Index</td>\n",
       "      <td>Consumer</td>\n",
       "    </tr>\n",
       "    <tr>\n",
       "      <th>2</th>\n",
       "      <td>API Crude Imports</td>\n",
       "      <td>Business</td>\n",
       "    </tr>\n",
       "    <tr>\n",
       "      <th>3</th>\n",
       "      <td>API Crude Oil Stock Change</td>\n",
       "      <td>Business</td>\n",
       "    </tr>\n",
       "    <tr>\n",
       "      <th>4</th>\n",
       "      <td>API Crude Runs</td>\n",
       "      <td>Business</td>\n",
       "    </tr>\n",
       "    <tr>\n",
       "      <th>5</th>\n",
       "      <td>API Cushing Number</td>\n",
       "      <td>Business</td>\n",
       "    </tr>\n",
       "    <tr>\n",
       "      <th>6</th>\n",
       "      <td>API Distillate Stocks</td>\n",
       "      <td>Business</td>\n",
       "    </tr>\n",
       "    <tr>\n",
       "      <th>7</th>\n",
       "      <td>API Gasoline Stocks</td>\n",
       "      <td>Business</td>\n",
       "    </tr>\n",
       "    <tr>\n",
       "      <th>8</th>\n",
       "      <td>API Heating Oil</td>\n",
       "      <td>Business</td>\n",
       "    </tr>\n",
       "    <tr>\n",
       "      <th>9</th>\n",
       "      <td>API Product Imports</td>\n",
       "      <td>Business</td>\n",
       "    </tr>\n",
       "  </tbody>\n",
       "</table>\n",
       "</div>"
      ],
      "text/plain": [
       "                                   Category CategoryGroup\n",
       "0                     ADP Employment Change        Labour\n",
       "1  ANZ Roy Morgan Consumer Confidence Index      Consumer\n",
       "2                         API Crude Imports      Business\n",
       "3                API Crude Oil Stock Change      Business\n",
       "4                            API Crude Runs      Business\n",
       "5                        API Cushing Number      Business\n",
       "6                     API Distillate Stocks      Business\n",
       "7                       API Gasoline Stocks      Business\n",
       "8                           API Heating Oil      Business\n",
       "9                       API Product Imports      Business"
      ]
     },
     "execution_count": 31,
     "metadata": {},
     "output_type": "execute_result"
    }
   ],
   "source": [
    "#check what indicators are avialable with Trading Economics API\n",
    "te.getIndicatorData(output_type='df')"
   ]
  },
  {
   "cell_type": "code",
   "execution_count": 32,
   "metadata": {},
   "outputs": [
    {
     "data": {
      "text/html": [
       "<div>\n",
       "<style scoped>\n",
       "    .dataframe tbody tr th:only-of-type {\n",
       "        vertical-align: middle;\n",
       "    }\n",
       "\n",
       "    .dataframe tbody tr th {\n",
       "        vertical-align: top;\n",
       "    }\n",
       "\n",
       "    .dataframe thead th {\n",
       "        text-align: right;\n",
       "    }\n",
       "</style>\n",
       "<table border=\"1\" class=\"dataframe\">\n",
       "  <thead>\n",
       "    <tr style=\"text-align: right;\">\n",
       "      <th></th>\n",
       "      <th>Country</th>\n",
       "      <th>Category</th>\n",
       "      <th>Title</th>\n",
       "      <th>LatestValue</th>\n",
       "      <th>LatestValueDate</th>\n",
       "      <th>Source</th>\n",
       "      <th>Unit</th>\n",
       "      <th>URL</th>\n",
       "      <th>CategoryGroup</th>\n",
       "      <th>Adjustment</th>\n",
       "      <th>Frequency</th>\n",
       "      <th>HistoricalDataSymbol</th>\n",
       "      <th>CreateDate</th>\n",
       "      <th>PreviousValue</th>\n",
       "      <th>PreviousValueDate</th>\n",
       "    </tr>\n",
       "  </thead>\n",
       "  <tbody>\n",
       "    <tr>\n",
       "      <th>0</th>\n",
       "      <td>United States</td>\n",
       "      <td>ADP Employment Change</td>\n",
       "      <td>United States ADP Employment Change</td>\n",
       "      <td>-301.00</td>\n",
       "      <td>2022-01-31T00:00:00</td>\n",
       "      <td>Automatic Data Processing, Inc.</td>\n",
       "      <td>Thousand</td>\n",
       "      <td>/united-states/adp-employment-change</td>\n",
       "      <td>Labour</td>\n",
       "      <td>SA</td>\n",
       "      <td>Monthly</td>\n",
       "      <td>UNITEDSTAADPEMPCHA</td>\n",
       "      <td>2014-04-30T13:57:00</td>\n",
       "      <td>776.00</td>\n",
       "      <td>2021-12-31T00:00:00</td>\n",
       "    </tr>\n",
       "    <tr>\n",
       "      <th>1</th>\n",
       "      <td>United States</td>\n",
       "      <td>API Crude Imports</td>\n",
       "      <td>United States API Crude Imports</td>\n",
       "      <td>0.80</td>\n",
       "      <td>2022-02-18T00:00:00</td>\n",
       "      <td>American Petroleum Institute (API)</td>\n",
       "      <td>BBL/1Million</td>\n",
       "      <td>/united-states/api-crude-imports</td>\n",
       "      <td>Business</td>\n",
       "      <td></td>\n",
       "      <td>Weekly</td>\n",
       "      <td>UNITEDSTAAPICRUIMP</td>\n",
       "      <td>2020-07-20T10:54:00</td>\n",
       "      <td>-0.73</td>\n",
       "      <td>2022-02-11T00:00:00</td>\n",
       "    </tr>\n",
       "    <tr>\n",
       "      <th>2</th>\n",
       "      <td>United States</td>\n",
       "      <td>API Crude Oil Stock Change</td>\n",
       "      <td>United States API Crude Oil Stock Change</td>\n",
       "      <td>5.98</td>\n",
       "      <td>2022-02-18T00:00:00</td>\n",
       "      <td>American Petroleum Institute (API)</td>\n",
       "      <td>BBL/1Million</td>\n",
       "      <td>/united-states/api-crude-oil-stock-change</td>\n",
       "      <td>Business</td>\n",
       "      <td></td>\n",
       "      <td>Weekly</td>\n",
       "      <td>APICRUDEOIL</td>\n",
       "      <td>2017-11-28T15:21:00</td>\n",
       "      <td>-1.08</td>\n",
       "      <td>2022-02-11T00:00:00</td>\n",
       "    </tr>\n",
       "    <tr>\n",
       "      <th>3</th>\n",
       "      <td>United States</td>\n",
       "      <td>API Crude Runs</td>\n",
       "      <td>United States API Crude Runs</td>\n",
       "      <td>0.08</td>\n",
       "      <td>2022-02-18T00:00:00</td>\n",
       "      <td>American Petroleum Institute (API)</td>\n",
       "      <td>BBL/1Million</td>\n",
       "      <td>/united-states/api-crude-runs</td>\n",
       "      <td>Business</td>\n",
       "      <td></td>\n",
       "      <td>Weekly</td>\n",
       "      <td>UNITEDSTAAPICRURUN</td>\n",
       "      <td>2020-07-20T11:02:00</td>\n",
       "      <td>-0.42</td>\n",
       "      <td>2022-02-11T00:00:00</td>\n",
       "    </tr>\n",
       "    <tr>\n",
       "      <th>4</th>\n",
       "      <td>United States</td>\n",
       "      <td>API Cushing Number</td>\n",
       "      <td>United States API Cushing Number</td>\n",
       "      <td>-2.07</td>\n",
       "      <td>2022-02-18T00:00:00</td>\n",
       "      <td>American Petroleum Institute (API)</td>\n",
       "      <td>BBL/1Million</td>\n",
       "      <td>/united-states/api-cushing-number</td>\n",
       "      <td>Business</td>\n",
       "      <td></td>\n",
       "      <td>Weekly</td>\n",
       "      <td>UNITEDSTAAPICUSNUM</td>\n",
       "      <td>2020-07-20T11:07:00</td>\n",
       "      <td>-2.38</td>\n",
       "      <td>2022-02-11T00:00:00</td>\n",
       "    </tr>\n",
       "    <tr>\n",
       "      <th>5</th>\n",
       "      <td>United States</td>\n",
       "      <td>API Distillate Stocks</td>\n",
       "      <td>United States API Distillate Stocks</td>\n",
       "      <td>-0.99</td>\n",
       "      <td>2022-02-18T00:00:00</td>\n",
       "      <td>American Petroleum Institute (API)</td>\n",
       "      <td>BBL/1Million</td>\n",
       "      <td>/united-states/api-distillate-stocks</td>\n",
       "      <td>Business</td>\n",
       "      <td></td>\n",
       "      <td>Weekly</td>\n",
       "      <td>UNITEDSTAAPIDISSTO</td>\n",
       "      <td>2020-07-20T11:09:00</td>\n",
       "      <td>-0.55</td>\n",
       "      <td>2022-02-11T00:00:00</td>\n",
       "    </tr>\n",
       "    <tr>\n",
       "      <th>6</th>\n",
       "      <td>United States</td>\n",
       "      <td>API Gasoline Stocks</td>\n",
       "      <td>United States API Gasoline Stocks</td>\n",
       "      <td>0.43</td>\n",
       "      <td>2022-02-18T00:00:00</td>\n",
       "      <td>American Petroleum Institute (API)</td>\n",
       "      <td>BBL/1Million</td>\n",
       "      <td>/united-states/api-gasoline-stocks</td>\n",
       "      <td>Business</td>\n",
       "      <td></td>\n",
       "      <td>Weekly</td>\n",
       "      <td>UNITEDSTAAPIGASSTO</td>\n",
       "      <td>2020-07-20T11:11:00</td>\n",
       "      <td>-0.92</td>\n",
       "      <td>2022-02-11T00:00:00</td>\n",
       "    </tr>\n",
       "    <tr>\n",
       "      <th>7</th>\n",
       "      <td>United States</td>\n",
       "      <td>API Heating Oil</td>\n",
       "      <td>United States API Heating Oil</td>\n",
       "      <td>-0.21</td>\n",
       "      <td>2022-02-18T00:00:00</td>\n",
       "      <td>American Petroleum Institute (API)</td>\n",
       "      <td>BBL/1Million</td>\n",
       "      <td>/united-states/api-heating-oil</td>\n",
       "      <td>Business</td>\n",
       "      <td></td>\n",
       "      <td>Weekly</td>\n",
       "      <td>UNITEDSTAAPIHEAOIL</td>\n",
       "      <td>2020-07-20T11:12:00</td>\n",
       "      <td>-0.26</td>\n",
       "      <td>2022-02-11T00:00:00</td>\n",
       "    </tr>\n",
       "    <tr>\n",
       "      <th>8</th>\n",
       "      <td>United States</td>\n",
       "      <td>API Product Imports</td>\n",
       "      <td>United States API Product Imports</td>\n",
       "      <td>-0.28</td>\n",
       "      <td>2022-02-18T00:00:00</td>\n",
       "      <td>American Petroleum Institute (API)</td>\n",
       "      <td>BBL/1Million</td>\n",
       "      <td>/united-states/api-product-imports</td>\n",
       "      <td>Business</td>\n",
       "      <td></td>\n",
       "      <td>Weekly</td>\n",
       "      <td>UNITEDSTAAPIPROIMP</td>\n",
       "      <td>2020-07-20T11:14:00</td>\n",
       "      <td>0.35</td>\n",
       "      <td>2022-02-11T00:00:00</td>\n",
       "    </tr>\n",
       "    <tr>\n",
       "      <th>9</th>\n",
       "      <td>United States</td>\n",
       "      <td>Asylum Applications</td>\n",
       "      <td>United States Asylum Applications</td>\n",
       "      <td>191367.00</td>\n",
       "      <td>2020-12-31T00:00:00</td>\n",
       "      <td>US Department of Justice</td>\n",
       "      <td>Persons</td>\n",
       "      <td>/united-states/asylum-applications</td>\n",
       "      <td>Government</td>\n",
       "      <td>NSA</td>\n",
       "      <td>Yearly</td>\n",
       "      <td>UNITEDSTAASYAPP</td>\n",
       "      <td>2015-09-10T15:49:00</td>\n",
       "      <td>214249.00</td>\n",
       "      <td>2019-12-31T00:00:00</td>\n",
       "    </tr>\n",
       "  </tbody>\n",
       "</table>\n",
       "</div>"
      ],
      "text/plain": [
       "         Country                    Category  \\\n",
       "0  United States       ADP Employment Change   \n",
       "1  United States           API Crude Imports   \n",
       "2  United States  API Crude Oil Stock Change   \n",
       "3  United States              API Crude Runs   \n",
       "4  United States          API Cushing Number   \n",
       "5  United States       API Distillate Stocks   \n",
       "6  United States         API Gasoline Stocks   \n",
       "7  United States             API Heating Oil   \n",
       "8  United States         API Product Imports   \n",
       "9  United States         Asylum Applications   \n",
       "\n",
       "                                      Title  LatestValue      LatestValueDate  \\\n",
       "0       United States ADP Employment Change      -301.00  2022-01-31T00:00:00   \n",
       "1           United States API Crude Imports         0.80  2022-02-18T00:00:00   \n",
       "2  United States API Crude Oil Stock Change         5.98  2022-02-18T00:00:00   \n",
       "3              United States API Crude Runs         0.08  2022-02-18T00:00:00   \n",
       "4          United States API Cushing Number        -2.07  2022-02-18T00:00:00   \n",
       "5       United States API Distillate Stocks        -0.99  2022-02-18T00:00:00   \n",
       "6         United States API Gasoline Stocks         0.43  2022-02-18T00:00:00   \n",
       "7             United States API Heating Oil        -0.21  2022-02-18T00:00:00   \n",
       "8         United States API Product Imports        -0.28  2022-02-18T00:00:00   \n",
       "9         United States Asylum Applications    191367.00  2020-12-31T00:00:00   \n",
       "\n",
       "                               Source          Unit  \\\n",
       "0     Automatic Data Processing, Inc.      Thousand   \n",
       "1  American Petroleum Institute (API)  BBL/1Million   \n",
       "2  American Petroleum Institute (API)  BBL/1Million   \n",
       "3  American Petroleum Institute (API)  BBL/1Million   \n",
       "4  American Petroleum Institute (API)  BBL/1Million   \n",
       "5  American Petroleum Institute (API)  BBL/1Million   \n",
       "6  American Petroleum Institute (API)  BBL/1Million   \n",
       "7  American Petroleum Institute (API)  BBL/1Million   \n",
       "8  American Petroleum Institute (API)  BBL/1Million   \n",
       "9            US Department of Justice       Persons   \n",
       "\n",
       "                                         URL CategoryGroup Adjustment  \\\n",
       "0       /united-states/adp-employment-change        Labour         SA   \n",
       "1           /united-states/api-crude-imports      Business              \n",
       "2  /united-states/api-crude-oil-stock-change      Business              \n",
       "3              /united-states/api-crude-runs      Business              \n",
       "4          /united-states/api-cushing-number      Business              \n",
       "5       /united-states/api-distillate-stocks      Business              \n",
       "6         /united-states/api-gasoline-stocks      Business              \n",
       "7             /united-states/api-heating-oil      Business              \n",
       "8         /united-states/api-product-imports      Business              \n",
       "9         /united-states/asylum-applications    Government        NSA   \n",
       "\n",
       "  Frequency HistoricalDataSymbol           CreateDate  PreviousValue  \\\n",
       "0   Monthly   UNITEDSTAADPEMPCHA  2014-04-30T13:57:00         776.00   \n",
       "1    Weekly   UNITEDSTAAPICRUIMP  2020-07-20T10:54:00          -0.73   \n",
       "2    Weekly          APICRUDEOIL  2017-11-28T15:21:00          -1.08   \n",
       "3    Weekly   UNITEDSTAAPICRURUN  2020-07-20T11:02:00          -0.42   \n",
       "4    Weekly   UNITEDSTAAPICUSNUM  2020-07-20T11:07:00          -2.38   \n",
       "5    Weekly   UNITEDSTAAPIDISSTO  2020-07-20T11:09:00          -0.55   \n",
       "6    Weekly   UNITEDSTAAPIGASSTO  2020-07-20T11:11:00          -0.92   \n",
       "7    Weekly   UNITEDSTAAPIHEAOIL  2020-07-20T11:12:00          -0.26   \n",
       "8    Weekly   UNITEDSTAAPIPROIMP  2020-07-20T11:14:00           0.35   \n",
       "9    Yearly      UNITEDSTAASYAPP  2015-09-10T15:49:00      214249.00   \n",
       "\n",
       "     PreviousValueDate  \n",
       "0  2021-12-31T00:00:00  \n",
       "1  2022-02-11T00:00:00  \n",
       "2  2022-02-11T00:00:00  \n",
       "3  2022-02-11T00:00:00  \n",
       "4  2022-02-11T00:00:00  \n",
       "5  2022-02-11T00:00:00  \n",
       "6  2022-02-11T00:00:00  \n",
       "7  2022-02-11T00:00:00  \n",
       "8  2022-02-11T00:00:00  \n",
       "9  2019-12-31T00:00:00  "
      ]
     },
     "execution_count": 32,
     "metadata": {},
     "output_type": "execute_result"
    }
   ],
   "source": [
    "te.getIndicatorData(country='united states', output_type='df')"
   ]
  },
  {
   "cell_type": "markdown",
   "metadata": {},
   "source": [
    "#### Finding: Not going to help"
   ]
  },
  {
   "cell_type": "markdown",
   "metadata": {},
   "source": [
    "#### FED Info"
   ]
  },
  {
   "cell_type": "code",
   "execution_count": 33,
   "metadata": {},
   "outputs": [],
   "source": [
    "# test connection\n",
    "base_url = \"https://api.stlouisfed.org/fred/series?series_id=fedfunds&api_key=\"+FED_API+\"&file_type=json\"\n",
    "fed_data = requests.get(base_url).json()"
   ]
  },
  {
   "cell_type": "code",
   "execution_count": 34,
   "metadata": {},
   "outputs": [
    {
     "data": {
      "text/plain": [
       "{'realtime_start': '2022-02-25',\n",
       " 'realtime_end': '2022-02-25',\n",
       " 'seriess': [{'id': 'FEDFUNDS',\n",
       "   'realtime_start': '2022-02-25',\n",
       "   'realtime_end': '2022-02-25',\n",
       "   'title': 'Federal Funds Effective Rate',\n",
       "   'observation_start': '1954-07-01',\n",
       "   'observation_end': '2022-01-01',\n",
       "   'frequency': 'Monthly',\n",
       "   'frequency_short': 'M',\n",
       "   'units': 'Percent',\n",
       "   'units_short': '%',\n",
       "   'seasonal_adjustment': 'Not Seasonally Adjusted',\n",
       "   'seasonal_adjustment_short': 'NSA',\n",
       "   'last_updated': '2022-02-01 15:19:02-06',\n",
       "   'popularity': 95,\n",
       "   'notes': 'Averages of daily figures.  \\r\\n\\r\\nFor additional historical federal funds rate data, please see  Daily Federal Funds Rate from 1928-1954 (https://fred.stlouisfed.org/categories/33951).\\r\\n\\r\\nThe federal funds rate is the interest rate at which depository institutions trade federal funds (balances held at Federal Reserve Banks) with each other overnight. When a depository institution has surplus balances in its reserve account, it lends to other banks in need of larger balances. In simpler terms, a bank with excess cash, which is often referred to as liquidity, will lend to another bank that needs to quickly raise liquidity. (1) The rate that the borrowing institution pays to the lending institution is determined between the two banks; the weighted average rate for all of these types of negotiations is called the effective federal funds rate.(2) The effective federal funds rate is essentially determined by the market but is influenced by the Federal Reserve through open market operations to reach the federal funds rate target.(2)\\r\\nThe Federal Open Market Committee (FOMC) meets eight times a year to determine the federal funds target rate. As previously stated, this rate influences the effective federal funds rate through open market operations or by buying and selling of government bonds (government debt).(2) More specifically, the Federal Reserve decreases liquidity by selling government bonds, thereby raising the federal funds rate because banks have less liquidity to trade with other banks. Similarly, the Federal Reserve can increase liquidity by buying government bonds, decreasing the federal funds rate because banks have excess liquidity for trade. Whether the Federal Reserve wants to buy or sell bonds depends on the state of the economy. If the FOMC believes the economy is growing too fast and inflation pressures are inconsistent with the dual mandate of the Federal Reserve, the Committee may set a higher federal funds rate target to temper economic activity. In the opposing scenario, the FOMC may set a lower federal funds rate target to spur greater economic activity. Therefore, the FOMC must observe the current state of the economy to determine the best course of monetary policy that will maximize economic growth while adhering to the dual mandate set forth by Congress. In making its monetary policy decisions, the FOMC considers a wealth of economic data, such as: trends in prices and wages, employment, consumer spending and income, business investments, and foreign exchange markets.\\r\\nThe federal funds rate is the central interest rate in the U.S. financial market. It influences other interest rates such as the prime rate, which is the rate banks charge their customers with higher credit ratings. Additionally, the federal funds rate indirectly influences longer- term interest rates such as mortgages, loans, and savings, all of which are very important to consumer wealth and confidence.(2)\\r\\nReferences\\r\\n(1) Federal Reserve Bank of New York. \"Federal funds.\" Fedpoints, August 2007.\\r\\n(2) Board of Governors of the Federal Reserve System. \"Monetary Policy (http://www.federalreserve.gov/monetarypolicy/default.htm)\".'}]}"
      ]
     },
     "execution_count": 34,
     "metadata": {},
     "output_type": "execute_result"
    }
   ],
   "source": [
    "fed_data"
   ]
  },
  {
   "cell_type": "code",
   "execution_count": 35,
   "metadata": {},
   "outputs": [],
   "source": [
    "#&realtime_start=1975-01-01\n",
    "# test connection\n",
    "base_url = \"https://api.stlouisfed.org/fred/series/observations?series_id=fedfunds&realtime_start=1975-01-01&api_key=\"+FED_API+\"&file_type=json\"\n",
    "fed_rate = requests.get(base_url).json()"
   ]
  },
  {
   "cell_type": "code",
   "execution_count": 36,
   "metadata": {},
   "outputs": [
    {
     "data": {
      "text/plain": [
       "dict_keys(['realtime_start', 'realtime_end', 'observation_start', 'observation_end', 'units', 'output_type', 'file_type', 'order_by', 'sort_order', 'count', 'offset', 'limit', 'observations'])"
      ]
     },
     "execution_count": 36,
     "metadata": {},
     "output_type": "execute_result"
    }
   ],
   "source": [
    "# check keys\n",
    "fed_rate.keys()"
   ]
  },
  {
   "cell_type": "code",
   "execution_count": 37,
   "metadata": {},
   "outputs": [
    {
     "data": {
      "text/plain": [
       "{'realtime_start': '2022-02-01',\n",
       " 'realtime_end': '9999-12-31',\n",
       " 'date': '2022-01-01',\n",
       " 'value': '0.08'}"
      ]
     },
     "execution_count": 37,
     "metadata": {},
     "output_type": "execute_result"
    }
   ],
   "source": [
    "# check to see if this pulls needed observations\n",
    "fed_rate['observations'][-1]"
   ]
  },
  {
   "cell_type": "code",
   "execution_count": 44,
   "metadata": {},
   "outputs": [],
   "source": [
    "# transform dictionary data from specific key to panda df\n",
    "df = pd.DataFrame(fed_rate['observations'])"
   ]
  },
  {
   "cell_type": "code",
   "execution_count": 45,
   "metadata": {},
   "outputs": [
    {
     "data": {
      "text/html": [
       "<div>\n",
       "<style scoped>\n",
       "    .dataframe tbody tr th:only-of-type {\n",
       "        vertical-align: middle;\n",
       "    }\n",
       "\n",
       "    .dataframe tbody tr th {\n",
       "        vertical-align: top;\n",
       "    }\n",
       "\n",
       "    .dataframe thead th {\n",
       "        text-align: right;\n",
       "    }\n",
       "</style>\n",
       "<table border=\"1\" class=\"dataframe\">\n",
       "  <thead>\n",
       "    <tr style=\"text-align: right;\">\n",
       "      <th></th>\n",
       "      <th>realtime_start</th>\n",
       "      <th>realtime_end</th>\n",
       "      <th>date</th>\n",
       "      <th>value</th>\n",
       "    </tr>\n",
       "  </thead>\n",
       "  <tbody>\n",
       "    <tr>\n",
       "      <th>860</th>\n",
       "      <td>2021-10-01</td>\n",
       "      <td>9999-12-31</td>\n",
       "      <td>2021-09-01</td>\n",
       "      <td>0.08</td>\n",
       "    </tr>\n",
       "    <tr>\n",
       "      <th>861</th>\n",
       "      <td>2021-11-01</td>\n",
       "      <td>9999-12-31</td>\n",
       "      <td>2021-10-01</td>\n",
       "      <td>0.08</td>\n",
       "    </tr>\n",
       "    <tr>\n",
       "      <th>862</th>\n",
       "      <td>2021-12-01</td>\n",
       "      <td>9999-12-31</td>\n",
       "      <td>2021-11-01</td>\n",
       "      <td>0.08</td>\n",
       "    </tr>\n",
       "    <tr>\n",
       "      <th>863</th>\n",
       "      <td>2022-01-03</td>\n",
       "      <td>9999-12-31</td>\n",
       "      <td>2021-12-01</td>\n",
       "      <td>0.08</td>\n",
       "    </tr>\n",
       "    <tr>\n",
       "      <th>864</th>\n",
       "      <td>2022-02-01</td>\n",
       "      <td>9999-12-31</td>\n",
       "      <td>2022-01-01</td>\n",
       "      <td>0.08</td>\n",
       "    </tr>\n",
       "  </tbody>\n",
       "</table>\n",
       "</div>"
      ],
      "text/plain": [
       "    realtime_start realtime_end        date value\n",
       "860     2021-10-01   9999-12-31  2021-09-01  0.08\n",
       "861     2021-11-01   9999-12-31  2021-10-01  0.08\n",
       "862     2021-12-01   9999-12-31  2021-11-01  0.08\n",
       "863     2022-01-03   9999-12-31  2021-12-01  0.08\n",
       "864     2022-02-01   9999-12-31  2022-01-01  0.08"
      ]
     },
     "execution_count": 45,
     "metadata": {},
     "output_type": "execute_result"
    }
   ],
   "source": [
    "# check \n",
    "df.tail()"
   ]
  },
  {
   "cell_type": "code",
   "execution_count": 46,
   "metadata": {},
   "outputs": [],
   "source": [
    "# drop ..start ...end columns\n",
    "df = df.drop(['realtime_start', 'realtime_end'],axis=1)"
   ]
  },
  {
   "cell_type": "code",
   "execution_count": 47,
   "metadata": {},
   "outputs": [
    {
     "ename": "AttributeError",
     "evalue": "'NoneType' object has no attribute 'rename'",
     "output_type": "error",
     "traceback": [
      "\u001b[0;31m---------------------------------------------------------------------------\u001b[0m",
      "\u001b[0;31mAttributeError\u001b[0m                            Traceback (most recent call last)",
      "\u001b[0;32m<ipython-input-47-3e52ed071d07>\u001b[0m in \u001b[0;36m<module>\u001b[0;34m\u001b[0m\n\u001b[1;32m      1\u001b[0m \u001b[0;31m# set df index to date and rename column\u001b[0m\u001b[0;34m\u001b[0m\u001b[0;34m\u001b[0m\u001b[0;34m\u001b[0m\u001b[0m\n\u001b[1;32m      2\u001b[0m \u001b[0mdf\u001b[0m \u001b[0;34m=\u001b[0m \u001b[0mdf\u001b[0m\u001b[0;34m.\u001b[0m\u001b[0mset_index\u001b[0m\u001b[0;34m(\u001b[0m\u001b[0;34m'date'\u001b[0m\u001b[0;34m,\u001b[0m \u001b[0minplace\u001b[0m\u001b[0;34m=\u001b[0m\u001b[0;32mTrue\u001b[0m\u001b[0;34m)\u001b[0m\u001b[0;34m\u001b[0m\u001b[0;34m\u001b[0m\u001b[0m\n\u001b[0;32m----> 3\u001b[0;31m \u001b[0mdf\u001b[0m \u001b[0;34m=\u001b[0m \u001b[0mdf\u001b[0m\u001b[0;34m.\u001b[0m\u001b[0mrename\u001b[0m\u001b[0;34m(\u001b[0m\u001b[0mcolumns\u001b[0m\u001b[0;34m=\u001b[0m\u001b[0;34m{\u001b[0m\u001b[0;34m'value'\u001b[0m\u001b[0;34m:\u001b[0m\u001b[0;34m'Fed_Funds_effective'\u001b[0m\u001b[0;34m}\u001b[0m\u001b[0;34m)\u001b[0m\u001b[0;34m\u001b[0m\u001b[0;34m\u001b[0m\u001b[0m\n\u001b[0m",
      "\u001b[0;31mAttributeError\u001b[0m: 'NoneType' object has no attribute 'rename'"
     ]
    }
   ],
   "source": [
    "# set df index to date and rename column\n",
    "df = df.set_index('date', inplace=True)\n",
    "df = df.rename(columns={'value':'Fed_Funds_effective'})"
   ]
  },
  {
   "cell_type": "code",
   "execution_count": 48,
   "metadata": {},
   "outputs": [],
   "source": [
    "df"
   ]
  },
  {
   "cell_type": "code",
   "execution_count": 49,
   "metadata": {},
   "outputs": [
    {
     "ename": "AttributeError",
     "evalue": "'NoneType' object has no attribute 'index'",
     "output_type": "error",
     "traceback": [
      "\u001b[0;31m---------------------------------------------------------------------------\u001b[0m",
      "\u001b[0;31mAttributeError\u001b[0m                            Traceback (most recent call last)",
      "\u001b[0;32m<ipython-input-49-d4556381ee51>\u001b[0m in \u001b[0;36m<module>\u001b[0;34m\u001b[0m\n\u001b[1;32m      1\u001b[0m \u001b[0;31m#convert index to datetime\u001b[0m\u001b[0;34m\u001b[0m\u001b[0;34m\u001b[0m\u001b[0;34m\u001b[0m\u001b[0m\n\u001b[0;32m----> 2\u001b[0;31m \u001b[0mdf\u001b[0m\u001b[0;34m.\u001b[0m\u001b[0mindex\u001b[0m \u001b[0;34m=\u001b[0m \u001b[0mpd\u001b[0m\u001b[0;34m.\u001b[0m\u001b[0mto_datetime\u001b[0m\u001b[0;34m(\u001b[0m\u001b[0mdf\u001b[0m\u001b[0;34m.\u001b[0m\u001b[0mindex\u001b[0m\u001b[0;34m)\u001b[0m\u001b[0;34m\u001b[0m\u001b[0;34m\u001b[0m\u001b[0m\n\u001b[0m\u001b[1;32m      3\u001b[0m \u001b[0mdf\u001b[0m\u001b[0;34m\u001b[0m\u001b[0;34m\u001b[0m\u001b[0m\n",
      "\u001b[0;31mAttributeError\u001b[0m: 'NoneType' object has no attribute 'index'"
     ]
    }
   ],
   "source": [
    "#convert index to datetime\n",
    "df.index = pd.to_datetime(df.index)\n",
    "df"
   ]
  },
  {
   "cell_type": "code",
   "execution_count": null,
   "metadata": {},
   "outputs": [],
   "source": [
    "df.info()"
   ]
  },
  {
   "cell_type": "markdown",
   "metadata": {},
   "source": [
    "#### NOTE: This is not the FED FUNDS rate but the effective rate"
   ]
  },
  {
   "cell_type": "code",
   "execution_count": null,
   "metadata": {},
   "outputs": [],
   "source": [
    "base_url2 = \"https://api.stlouisfed.org/fred/series/id&api_key=\"+FED_API+\"&file_type=json\""
   ]
  },
  {
   "cell_type": "code",
   "execution_count": null,
   "metadata": {},
   "outputs": [],
   "source": [
    "seek = requests.get(base_url2)"
   ]
  },
  {
   "cell_type": "code",
   "execution_count": null,
   "metadata": {},
   "outputs": [],
   "source": [
    "seek"
   ]
  },
  {
   "cell_type": "code",
   "execution_count": null,
   "metadata": {},
   "outputs": [],
   "source": [
    "# let's try and just get Fed Funds"
   ]
  },
  {
   "cell_type": "code",
   "execution_count": null,
   "metadata": {},
   "outputs": [],
   "source": [
    "#&realtime_start=1975-01-01\n",
    "# test connection\n",
    "base_url3 = \"https://api.stlouisfed.org/fred/series/observations?series_id=fedfunds&realtime_start=1975-01-01&api_key=\"+FED_API+\"&file_type=json\"\n",
    "fed_rate3 = requests.get(base_url3).json()"
   ]
  },
  {
   "cell_type": "code",
   "execution_count": null,
   "metadata": {},
   "outputs": [],
   "source": [
    "# check to see if this pulls needed observations\n",
    "fed_rate3['observations'][-1]"
   ]
  },
  {
   "cell_type": "code",
   "execution_count": null,
   "metadata": {},
   "outputs": [],
   "source": [
    "# count of total number of observations\n",
    "df.describe()"
   ]
  },
  {
   "cell_type": "code",
   "execution_count": null,
   "metadata": {},
   "outputs": [],
   "source": [
    "# Number of unique index dates\n",
    "len(df.index.unique())"
   ]
  },
  {
   "cell_type": "markdown",
   "metadata": {},
   "source": [
    "#### NOTE: total count of observations =! total index.unique -> some dates are duplicated"
   ]
  },
  {
   "cell_type": "code",
   "execution_count": null,
   "metadata": {},
   "outputs": [],
   "source": [
    "plt.plot(df.index)\n",
    "plt.show()"
   ]
  },
  {
   "cell_type": "code",
   "execution_count": null,
   "metadata": {},
   "outputs": [],
   "source": [
    "plt.plot(df.Fed_Funds_effective)\n",
    "plt.show()"
   ]
  },
  {
   "cell_type": "code",
   "execution_count": null,
   "metadata": {},
   "outputs": [],
   "source": [
    "# Identifying dates with multiple observations\n",
    "df.index.value_counts()[(df.index.value_counts())>1]"
   ]
  },
  {
   "cell_type": "code",
   "execution_count": null,
   "metadata": {},
   "outputs": [],
   "source": [
    "# mask for one date\n",
    "list(df.index[df.index == '1965-03-01'])"
   ]
  },
  {
   "cell_type": "code",
   "execution_count": null,
   "metadata": {},
   "outputs": [],
   "source": [
    "# pull these observations\n",
    "df.loc['1965-03-01']"
   ]
  },
  {
   "cell_type": "code",
   "execution_count": null,
   "metadata": {},
   "outputs": [],
   "source": [
    "sns.lineplot(df.loc['1960-01-01':'1970-01-01'], df.Fed_Funds_effective)"
   ]
  },
  {
   "cell_type": "code",
   "execution_count": null,
   "metadata": {},
   "outputs": [],
   "source": [
    "plt.subplot(2, 3, 1)\n",
    "plt.plot(data=df['2010-01-01':], x=\"date\", y=\"Fed_Funds_effective\")"
   ]
  },
  {
   "cell_type": "code",
   "execution_count": null,
   "metadata": {},
   "outputs": [],
   "source": []
  }
 ],
 "metadata": {
  "kernelspec": {
   "display_name": "Python 3",
   "language": "python",
   "name": "python3"
  },
  "language_info": {
   "codemirror_mode": {
    "name": "ipython",
    "version": 3
   },
   "file_extension": ".py",
   "mimetype": "text/x-python",
   "name": "python",
   "nbconvert_exporter": "python",
   "pygments_lexer": "ipython3",
   "version": "3.8.5"
  }
 },
 "nbformat": 4,
 "nbformat_minor": 4
}
