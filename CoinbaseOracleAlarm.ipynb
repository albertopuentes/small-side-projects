{
 "cells": [
  {
   "cell_type": "code",
   "execution_count": 1,
   "metadata": {},
   "outputs": [],
   "source": [
    "import cbpro\n",
    "import pandas as pd\n",
    "import requests"
   ]
  },
  {
   "cell_type": "markdown",
   "metadata": {},
   "source": [
    "#### Check Connectivity"
   ]
  },
  {
   "cell_type": "code",
   "execution_count": 25,
   "metadata": {},
   "outputs": [
    {
     "data": {
      "text/html": [
       "<div>\n",
       "<style scoped>\n",
       "    .dataframe tbody tr th:only-of-type {\n",
       "        vertical-align: middle;\n",
       "    }\n",
       "\n",
       "    .dataframe tbody tr th {\n",
       "        vertical-align: top;\n",
       "    }\n",
       "\n",
       "    .dataframe thead th {\n",
       "        text-align: right;\n",
       "    }\n",
       "</style>\n",
       "<table border=\"1\" class=\"dataframe\">\n",
       "  <thead>\n",
       "    <tr style=\"text-align: right;\">\n",
       "      <th></th>\n",
       "      <th>466</th>\n",
       "      <th>467</th>\n",
       "      <th>468</th>\n",
       "      <th>469</th>\n",
       "      <th>470</th>\n",
       "    </tr>\n",
       "  </thead>\n",
       "  <tbody>\n",
       "    <tr>\n",
       "      <th>id</th>\n",
       "      <td>AMP-USD</td>\n",
       "      <td>XRP-BTC</td>\n",
       "      <td>XRP-GBP</td>\n",
       "      <td>XRP-USD</td>\n",
       "      <td>XRP-EUR</td>\n",
       "    </tr>\n",
       "    <tr>\n",
       "      <th>base_currency</th>\n",
       "      <td>AMP</td>\n",
       "      <td>XRP</td>\n",
       "      <td>XRP</td>\n",
       "      <td>XRP</td>\n",
       "      <td>XRP</td>\n",
       "    </tr>\n",
       "    <tr>\n",
       "      <th>quote_currency</th>\n",
       "      <td>USD</td>\n",
       "      <td>BTC</td>\n",
       "      <td>GBP</td>\n",
       "      <td>USD</td>\n",
       "      <td>EUR</td>\n",
       "    </tr>\n",
       "    <tr>\n",
       "      <th>base_min_size</th>\n",
       "      <td>17</td>\n",
       "      <td>1</td>\n",
       "      <td>1</td>\n",
       "      <td>1</td>\n",
       "      <td>1</td>\n",
       "    </tr>\n",
       "    <tr>\n",
       "      <th>base_max_size</th>\n",
       "      <td>25000000</td>\n",
       "      <td>500000</td>\n",
       "      <td>500000</td>\n",
       "      <td>500000</td>\n",
       "      <td>500000</td>\n",
       "    </tr>\n",
       "    <tr>\n",
       "      <th>quote_increment</th>\n",
       "      <td>0.00001</td>\n",
       "      <td>0.00000001</td>\n",
       "      <td>0.0001</td>\n",
       "      <td>0.0001</td>\n",
       "      <td>0.0001</td>\n",
       "    </tr>\n",
       "    <tr>\n",
       "      <th>base_increment</th>\n",
       "      <td>1</td>\n",
       "      <td>1</td>\n",
       "      <td>0.000001</td>\n",
       "      <td>0.000001</td>\n",
       "      <td>0.000001</td>\n",
       "    </tr>\n",
       "    <tr>\n",
       "      <th>display_name</th>\n",
       "      <td>AMP/USD</td>\n",
       "      <td>XRP/BTC</td>\n",
       "      <td>XRP/GBP</td>\n",
       "      <td>XRP/USD</td>\n",
       "      <td>XRP/EUR</td>\n",
       "    </tr>\n",
       "    <tr>\n",
       "      <th>min_market_funds</th>\n",
       "      <td>1</td>\n",
       "      <td>0.001</td>\n",
       "      <td>10</td>\n",
       "      <td>10</td>\n",
       "      <td>10</td>\n",
       "    </tr>\n",
       "    <tr>\n",
       "      <th>max_market_funds</th>\n",
       "      <td>970000</td>\n",
       "      <td>30</td>\n",
       "      <td>100000</td>\n",
       "      <td>100000</td>\n",
       "      <td>100000</td>\n",
       "    </tr>\n",
       "    <tr>\n",
       "      <th>margin_enabled</th>\n",
       "      <td>False</td>\n",
       "      <td>False</td>\n",
       "      <td>False</td>\n",
       "      <td>False</td>\n",
       "      <td>False</td>\n",
       "    </tr>\n",
       "    <tr>\n",
       "      <th>fx_stablecoin</th>\n",
       "      <td>False</td>\n",
       "      <td>False</td>\n",
       "      <td>False</td>\n",
       "      <td>False</td>\n",
       "      <td>False</td>\n",
       "    </tr>\n",
       "    <tr>\n",
       "      <th>max_slippage_percentage</th>\n",
       "      <td>0.03000000</td>\n",
       "      <td>0.10000000</td>\n",
       "      <td>0.10000000</td>\n",
       "      <td>0.10000000</td>\n",
       "      <td>0.10000000</td>\n",
       "    </tr>\n",
       "    <tr>\n",
       "      <th>post_only</th>\n",
       "      <td>False</td>\n",
       "      <td>False</td>\n",
       "      <td>False</td>\n",
       "      <td>False</td>\n",
       "      <td>False</td>\n",
       "    </tr>\n",
       "    <tr>\n",
       "      <th>limit_only</th>\n",
       "      <td>False</td>\n",
       "      <td>False</td>\n",
       "      <td>False</td>\n",
       "      <td>False</td>\n",
       "      <td>False</td>\n",
       "    </tr>\n",
       "    <tr>\n",
       "      <th>cancel_only</th>\n",
       "      <td>False</td>\n",
       "      <td>False</td>\n",
       "      <td>False</td>\n",
       "      <td>False</td>\n",
       "      <td>False</td>\n",
       "    </tr>\n",
       "    <tr>\n",
       "      <th>trading_disabled</th>\n",
       "      <td>False</td>\n",
       "      <td>True</td>\n",
       "      <td>True</td>\n",
       "      <td>True</td>\n",
       "      <td>True</td>\n",
       "    </tr>\n",
       "    <tr>\n",
       "      <th>status</th>\n",
       "      <td>online</td>\n",
       "      <td>delisted</td>\n",
       "      <td>delisted</td>\n",
       "      <td>delisted</td>\n",
       "      <td>delisted</td>\n",
       "    </tr>\n",
       "    <tr>\n",
       "      <th>status_message</th>\n",
       "      <td></td>\n",
       "      <td></td>\n",
       "      <td></td>\n",
       "      <td></td>\n",
       "      <td></td>\n",
       "    </tr>\n",
       "    <tr>\n",
       "      <th>auction_mode</th>\n",
       "      <td>False</td>\n",
       "      <td>False</td>\n",
       "      <td>False</td>\n",
       "      <td>False</td>\n",
       "      <td>False</td>\n",
       "    </tr>\n",
       "  </tbody>\n",
       "</table>\n",
       "</div>"
      ],
      "text/plain": [
       "                                466         467         468         469  \\\n",
       "id                          AMP-USD     XRP-BTC     XRP-GBP     XRP-USD   \n",
       "base_currency                   AMP         XRP         XRP         XRP   \n",
       "quote_currency                  USD         BTC         GBP         USD   \n",
       "base_min_size                    17           1           1           1   \n",
       "base_max_size              25000000      500000      500000      500000   \n",
       "quote_increment             0.00001  0.00000001      0.0001      0.0001   \n",
       "base_increment                    1           1    0.000001    0.000001   \n",
       "display_name                AMP/USD     XRP/BTC     XRP/GBP     XRP/USD   \n",
       "min_market_funds                  1       0.001          10          10   \n",
       "max_market_funds             970000          30      100000      100000   \n",
       "margin_enabled                False       False       False       False   \n",
       "fx_stablecoin                 False       False       False       False   \n",
       "max_slippage_percentage  0.03000000  0.10000000  0.10000000  0.10000000   \n",
       "post_only                     False       False       False       False   \n",
       "limit_only                    False       False       False       False   \n",
       "cancel_only                   False       False       False       False   \n",
       "trading_disabled              False        True        True        True   \n",
       "status                       online    delisted    delisted    delisted   \n",
       "status_message                                                            \n",
       "auction_mode                  False       False       False       False   \n",
       "\n",
       "                                470  \n",
       "id                          XRP-EUR  \n",
       "base_currency                   XRP  \n",
       "quote_currency                  EUR  \n",
       "base_min_size                     1  \n",
       "base_max_size                500000  \n",
       "quote_increment              0.0001  \n",
       "base_increment             0.000001  \n",
       "display_name                XRP/EUR  \n",
       "min_market_funds                 10  \n",
       "max_market_funds             100000  \n",
       "margin_enabled                False  \n",
       "fx_stablecoin                 False  \n",
       "max_slippage_percentage  0.10000000  \n",
       "post_only                     False  \n",
       "limit_only                    False  \n",
       "cancel_only                   False  \n",
       "trading_disabled               True  \n",
       "status                     delisted  \n",
       "status_message                       \n",
       "auction_mode                  False  "
      ]
     },
     "execution_count": 25,
     "metadata": {},
     "output_type": "execute_result"
    }
   ],
   "source": [
    "c = cbpro.PublicClient()\n",
    "\n",
    "data = pd.DataFrame(c.get_products())\n",
    "data.tail().T"
   ]
  },
  {
   "cell_type": "markdown",
   "metadata": {},
   "source": [
    "#### Get Pairs"
   ]
  },
  {
   "cell_type": "code",
   "execution_count": 26,
   "metadata": {},
   "outputs": [
    {
     "data": {
      "text/plain": [
       "{'trade_id': 236076282,\n",
       " 'price': '2548.03',\n",
       " 'size': '0.04514439',\n",
       " 'time': '2022-03-08T04:43:36.46645Z',\n",
       " 'bid': '2548.05',\n",
       " 'ask': '2548.26',\n",
       " 'volume': '210723.47329462'}"
      ]
     },
     "execution_count": 26,
     "metadata": {},
     "output_type": "execute_result"
    }
   ],
   "source": [
    "ticker = c.get_product_ticker(product_id='ETH-USD')\n",
    "ticker"
   ]
  },
  {
   "cell_type": "code",
   "execution_count": 4,
   "metadata": {},
   "outputs": [
    {
     "data": {
      "text/plain": [
       "{'trade_id': 236060535,\n",
       " 'price': '2543.04',\n",
       " 'size': '0.01093503',\n",
       " 'time': '2022-03-08T03:51:03.405493Z',\n",
       " 'bid': '2543.04',\n",
       " 'ask': '2543.05',\n",
       " 'volume': '210726.38479388'}"
      ]
     },
     "execution_count": 4,
     "metadata": {},
     "output_type": "execute_result"
    }
   ],
   "source": [
    "ticker = requests.get('https://api.pro.coinbase.com/products/ETH-USD/ticker').json()\n",
    "ticker"
   ]
  },
  {
   "cell_type": "code",
   "execution_count": 23,
   "metadata": {},
   "outputs": [
    {
     "data": {
      "text/html": [
       "<div>\n",
       "<style scoped>\n",
       "    .dataframe tbody tr th:only-of-type {\n",
       "        vertical-align: middle;\n",
       "    }\n",
       "\n",
       "    .dataframe tbody tr th {\n",
       "        vertical-align: top;\n",
       "    }\n",
       "\n",
       "    .dataframe thead th {\n",
       "        text-align: right;\n",
       "    }\n",
       "</style>\n",
       "<table border=\"1\" class=\"dataframe\">\n",
       "  <thead>\n",
       "    <tr style=\"text-align: right;\">\n",
       "      <th></th>\n",
       "    </tr>\n",
       "  </thead>\n",
       "  <tbody>\n",
       "  </tbody>\n",
       "</table>\n",
       "</div>"
      ],
      "text/plain": [
       "Empty DataFrame\n",
       "Columns: []\n",
       "Index: []"
      ]
     },
     "execution_count": 23,
     "metadata": {},
     "output_type": "execute_result"
    }
   ],
   "source": [
    "# Historicals\n",
    "historical = pd.DataFrame()\n",
    "historical"
   ]
  },
  {
   "cell_type": "code",
   "execution_count": 1,
   "metadata": {},
   "outputs": [
    {
     "data": {
      "application/javascript": [
       "\n",
       "        if (window._pyforest_update_imports_cell) { window._pyforest_update_imports_cell('import pandas as pd'); }\n",
       "    "
      ],
      "text/plain": [
       "<IPython.core.display.Javascript object>"
      ]
     },
     "metadata": {},
     "output_type": "display_data"
    },
    {
     "ename": "NameError",
     "evalue": "name 'c' is not defined",
     "output_type": "error",
     "traceback": [
      "\u001b[0;31m---------------------------------------------------------------------------\u001b[0m",
      "\u001b[0;31mNameError\u001b[0m                                 Traceback (most recent call last)",
      "\u001b[0;32m<ipython-input-1-11216f57aa77>\u001b[0m in \u001b[0;36m<module>\u001b[0;34m\u001b[0m\n\u001b[1;32m      1\u001b[0m \u001b[0;31m# Historicals\u001b[0m\u001b[0;34m\u001b[0m\u001b[0;34m\u001b[0m\u001b[0;34m\u001b[0m\u001b[0m\n\u001b[0;32m----> 2\u001b[0;31m \u001b[0mhistorical\u001b[0m \u001b[0;34m=\u001b[0m \u001b[0mpd\u001b[0m\u001b[0;34m.\u001b[0m\u001b[0mDataFrame\u001b[0m\u001b[0;34m(\u001b[0m\u001b[0mc\u001b[0m\u001b[0;34m.\u001b[0m\u001b[0mget_product_historic_rates\u001b[0m\u001b[0;34m(\u001b[0m\u001b[0mproduct_id\u001b[0m\u001b[0;34m=\u001b[0m\u001b[0;34m'ETH-USD'\u001b[0m\u001b[0;34m)\u001b[0m\u001b[0;34m)\u001b[0m\u001b[0;34m\u001b[0m\u001b[0;34m\u001b[0m\u001b[0m\n\u001b[0m\u001b[1;32m      3\u001b[0m \u001b[0mhistorical\u001b[0m\u001b[0;34m.\u001b[0m\u001b[0mcolumns\u001b[0m\u001b[0;34m=\u001b[0m \u001b[0;34m[\u001b[0m\u001b[0;34m\"Date\"\u001b[0m\u001b[0;34m,\u001b[0m \u001b[0;34m\"price\"\u001b[0m\u001b[0;34m,\u001b[0m \u001b[0;34m\"Open\"\u001b[0m\u001b[0;34m,\u001b[0m\u001b[0;34m\"High\"\u001b[0m\u001b[0;34m,\u001b[0m\u001b[0;34m\"Low\"\u001b[0m\u001b[0;34m,\u001b[0m\u001b[0;34m\"Close\"\u001b[0m\u001b[0;34m,\u001b[0m\u001b[0;34m\"Volume\"\u001b[0m\u001b[0;34m]\u001b[0m\u001b[0;34m\u001b[0m\u001b[0;34m\u001b[0m\u001b[0m\n\u001b[1;32m      4\u001b[0m \u001b[0mhistorical\u001b[0m\u001b[0;34m[\u001b[0m\u001b[0;34m'Date'\u001b[0m\u001b[0;34m]\u001b[0m \u001b[0;34m=\u001b[0m \u001b[0mpd\u001b[0m\u001b[0;34m.\u001b[0m\u001b[0mto_datetime\u001b[0m\u001b[0;34m(\u001b[0m\u001b[0mhistorical\u001b[0m\u001b[0;34m[\u001b[0m\u001b[0;34m'Date'\u001b[0m\u001b[0;34m]\u001b[0m\u001b[0;34m,\u001b[0m \u001b[0munit\u001b[0m\u001b[0;34m=\u001b[0m\u001b[0;34m's'\u001b[0m\u001b[0;34m)\u001b[0m\u001b[0;34m\u001b[0m\u001b[0;34m\u001b[0m\u001b[0m\n\u001b[1;32m      5\u001b[0m \u001b[0mhistorical\u001b[0m\u001b[0;34m.\u001b[0m\u001b[0mset_index\u001b[0m\u001b[0;34m(\u001b[0m\u001b[0;34m'Date'\u001b[0m\u001b[0;34m,\u001b[0m \u001b[0minplace\u001b[0m\u001b[0;34m=\u001b[0m\u001b[0;32mTrue\u001b[0m\u001b[0;34m)\u001b[0m\u001b[0;34m\u001b[0m\u001b[0;34m\u001b[0m\u001b[0m\n",
      "\u001b[0;31mNameError\u001b[0m: name 'c' is not defined"
     ]
    }
   ],
   "source": [
    "# Historicals\n",
    "historical = pd.DataFrame(c.get_product_historic_rates(product_id='ETH-USD'))\n",
    "historical.columns= [\"Date\", \"price\", \"Open\",\"High\",\"Low\",\"Close\",\"Volume\"]\n",
    "historical['Date'] = pd.to_datetime(historical['Date'], unit='s')\n",
    "historical.set_index('Date', inplace=True)\n",
    "historical.sort_values(by='Date', ascending=True, inplace=True)\n",
    "historical.head()"
   ]
  },
  {
   "cell_type": "code",
   "execution_count": null,
   "metadata": {},
   "outputs": [],
   "source": []
  },
  {
   "cell_type": "code",
   "execution_count": null,
   "metadata": {},
   "outputs": [],
   "source": []
  },
  {
   "cell_type": "code",
   "execution_count": null,
   "metadata": {},
   "outputs": [],
   "source": []
  }
 ],
 "metadata": {
  "kernelspec": {
   "display_name": "Python 3",
   "language": "python",
   "name": "python3"
  },
  "language_info": {
   "codemirror_mode": {
    "name": "ipython",
    "version": 3
   },
   "file_extension": ".py",
   "mimetype": "text/x-python",
   "name": "python",
   "nbconvert_exporter": "python",
   "pygments_lexer": "ipython3",
   "version": "3.8.5"
  }
 },
 "nbformat": 4,
 "nbformat_minor": 4
}
