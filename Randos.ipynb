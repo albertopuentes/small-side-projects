{
 "cells": [
  {
   "cell_type": "code",
   "execution_count": 1,
   "metadata": {},
   "outputs": [],
   "source": [
    "from guizero import App"
   ]
  },
  {
   "cell_type": "code",
   "execution_count": 2,
   "metadata": {},
   "outputs": [],
   "source": [
    "app = App(title=\"Hello world\")\n",
    "app.display()"
   ]
  },
  {
   "cell_type": "code",
   "execution_count": 3,
   "metadata": {},
   "outputs": [],
   "source": [
    "from guizero import App, Text\n",
    "app = App(title=\"Hello world\")\n",
    "message = Text(app, text=\"Welcome to the app\")\n",
    "app.display()"
   ]
  },
  {
   "cell_type": "code",
   "execution_count": 1,
   "metadata": {},
   "outputs": [],
   "source": [
    "# SQL exercise"
   ]
  },
  {
   "cell_type": "code",
   "execution_count": 17,
   "metadata": {},
   "outputs": [
    {
     "name": "stdout",
     "output_type": "stream",
     "text": [
      "age average: 29.00\n",
      "is_vegetarian is not numeric, skipping\n",
      "shoe size average: 8.86\n",
      "ISP is not numeric, skipping\n",
      "BMI average: 23.90\n"
     ]
    }
   ],
   "source": [
    "dataset = [{'name': 'age', 'type': 'int', 'data': [20, 25, 43, 11, 15, 53, 36]},\n",
    "           {'name': 'is_vegetarian', 'type': 'boolean', 'data': [False, True, False, False, True, False, False]},\n",
    "           {'name': 'shoe size', 'type': 'int', 'data': [8, 11, 7, 10, 7, 9, 10]},\n",
    "           {'name': 'ISP', 'type': 'categorical', 'data': ['AT&T', 'Spectrum', 'Spectrum', 'Spectrum', 'AT&T', 'Spectrum', 'AT&T']},\n",
    "           {'name': 'BMI', 'type': 'float', 'data': [29.9, 20.4, 23.3, 21.7, 22.2, 22.8, 27.0]}]\n",
    "\n",
    "# print the means for the numeric data\n",
    "for feature in dataset:\n",
    "    if feature['type'] == 'categorical' or feature['type'] == 'boolean':\n",
    "        print(f\"{feature['name']} is not numeric, skipping\")\n",
    "        continue\n",
    "    avg = sum(feature['data']) / len(feature['data'])\n",
    "    print(f\"{feature['name']} average: {avg:.2f}\") # the :.2f formats the decimal to 2 places."
   ]
  },
  {
   "cell_type": "code",
   "execution_count": 18,
   "metadata": {},
   "outputs": [
    {
     "name": "stdout",
     "output_type": "stream",
     "text": [
      "age average: 29.0\n",
      "is_vegetarian is not numeric, skipping\n",
      "shoe size average: 8.9\n",
      "ISP is not numeric, skipping\n",
      "BMI average: 23.9\n"
     ]
    }
   ],
   "source": [
    "for feature in dataset:\n",
    "    if feature['type'] == 'categorical' or feature['type'] == 'boolean':\n",
    "        print(f\"{feature['name']} is not numeric, skipping\")\n",
    "        continue\n",
    "    avg = sum(feature['data']) / len(feature['data'])\n",
    "    print(f\"{feature['name']} average: {avg:.1f}\") # the :.2f formats the decimal to 2 places."
   ]
  },
  {
   "cell_type": "code",
   "execution_count": 30,
   "metadata": {},
   "outputs": [
    {
     "name": "stdout",
     "output_type": "stream",
     "text": [
      "0 is even\n",
      "2 is even\n",
      "4 is even\n",
      "6 is even\n",
      "8 is even\n",
      "10 is even\n",
      "12 is even\n",
      "14 is even\n",
      "16 is even\n",
      "18 is even\n"
     ]
    }
   ],
   "source": [
    "for n in range(0, 20):\n",
    "    if n % 2 != 0:\n",
    "        continue    \n",
    "    print(f'{n} is even')"
   ]
  },
  {
   "cell_type": "code",
   "execution_count": 31,
   "metadata": {},
   "outputs": [
    {
     "name": "stdout",
     "output_type": "stream",
     "text": [
      "1\n",
      "2\n",
      "3\n",
      "4\n",
      "5\n",
      "6\n",
      "7\n",
      "8\n",
      "9\n",
      "10\n"
     ]
    }
   ],
   "source": [
    "numbers = [1, 2, 3, 4, 5, 6, 7, 8, 9, 10]\n",
    "\n",
    "for n in numbers:\n",
    "    print(n)\n",
    "    "
   ]
  },
  {
   "cell_type": "code",
   "execution_count": null,
   "metadata": {},
   "outputs": [],
   "source": []
  }
 ],
 "metadata": {
  "kernelspec": {
   "display_name": "Python 3",
   "language": "python",
   "name": "python3"
  },
  "language_info": {
   "codemirror_mode": {
    "name": "ipython",
    "version": 3
   },
   "file_extension": ".py",
   "mimetype": "text/x-python",
   "name": "python",
   "nbconvert_exporter": "python",
   "pygments_lexer": "ipython3",
   "version": "3.8.5"
  }
 },
 "nbformat": 4,
 "nbformat_minor": 4
}
