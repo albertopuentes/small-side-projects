{
 "cells": [
  {
   "cell_type": "code",
   "execution_count": 12,
   "metadata": {},
   "outputs": [],
   "source": [
    "import pandas_datareader as web\n",
    "import matplotlib as plt\n",
    "import mplfinance as mpf\n",
    "import datetime as dt"
   ]
  },
  {
   "cell_type": "code",
   "execution_count": 13,
   "metadata": {},
   "outputs": [],
   "source": [
    "# Crypto Pair\n",
    "crypto = 'BTC'\n",
    "currency = 'USD'"
   ]
  },
  {
   "cell_type": "code",
   "execution_count": 17,
   "metadata": {},
   "outputs": [],
   "source": [
    "# Scrape data from Yahoo Finance\n",
    "start= dt.datetime(2020,1,1)\n",
    "end= dt.datetime.now()\n",
    "\n",
    "data = web.DataReader(f'{crypto}-{currency}', 'yahoo', start, end)"
   ]
  },
  {
   "cell_type": "code",
   "execution_count": 16,
   "metadata": {},
   "outputs": [
    {
     "name": "stdout",
     "output_type": "stream",
     "text": [
      "                    High           Low          Open         Close  \\\n",
      "Date                                                                 \n",
      "2020-01-01   7254.330566   7174.944336   7194.892090   7200.174316   \n",
      "2020-01-02   7212.155273   6935.270020   7202.551270   6985.470215   \n",
      "2020-01-03   7413.715332   6914.996094   6984.428711   7344.884277   \n",
      "2020-01-04   7427.385742   7309.514160   7345.375488   7410.656738   \n",
      "2020-01-05   7544.497070   7400.535645   7410.451660   7411.317383   \n",
      "...                  ...           ...           ...           ...   \n",
      "2021-09-04  51868.679688  49538.597656  49937.859375  51753.410156   \n",
      "2021-09-05  52700.941406  51053.679688  51769.003906  52633.535156   \n",
      "2021-09-06  52853.765625  43285.207031  52660.480469  46811.128906   \n",
      "2021-09-07  47334.054688  44561.394531  46827.761719  46091.390625   \n",
      "2021-09-09  47217.851562  44215.949219  46156.343750  46227.671875   \n",
      "\n",
      "                  Volume     Adj Close  \n",
      "Date                                    \n",
      "2020-01-01  1.856566e+10   7200.174316  \n",
      "2020-01-02  2.080208e+10   6985.470215  \n",
      "2020-01-03  2.811148e+10   7344.884277  \n",
      "2020-01-04  1.844427e+10   7410.656738  \n",
      "2020-01-05  1.972507e+10   7411.317383  \n",
      "...                  ...           ...  \n",
      "2021-09-04  3.032268e+10  51753.410156  \n",
      "2021-09-05  3.888411e+10  52633.535156  \n",
      "2021-09-06  6.521006e+10  46811.128906  \n",
      "2021-09-07  4.900776e+10  46091.390625  \n",
      "2021-09-09  4.007427e+10  46227.671875  \n",
      "\n",
      "[614 rows x 6 columns]\n"
     ]
    }
   ],
   "source": [
    "print(data)"
   ]
  },
  {
   "cell_type": "code",
   "execution_count": null,
   "metadata": {},
   "outputs": [],
   "source": [
    "# s"
   ]
  }
 ],
 "metadata": {
  "kernelspec": {
   "display_name": "Python 3",
   "language": "python",
   "name": "python3"
  },
  "language_info": {
   "codemirror_mode": {
    "name": "ipython",
    "version": 3
   },
   "file_extension": ".py",
   "mimetype": "text/x-python",
   "name": "python",
   "nbconvert_exporter": "python",
   "pygments_lexer": "ipython3",
   "version": "3.8.5"
  }
 },
 "nbformat": 4,
 "nbformat_minor": 4
}
