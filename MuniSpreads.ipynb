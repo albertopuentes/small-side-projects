{
 "cells": [
  {
   "cell_type": "code",
   "execution_count": 13,
   "metadata": {},
   "outputs": [],
   "source": [
    "import pandas as pd\n",
    "from datetime import datetime\n",
    "import matplotlib as mb\n",
    "import seaborn as sns"
   ]
  },
  {
   "cell_type": "markdown",
   "metadata": {},
   "source": [
    "## Data Exploration"
   ]
  },
  {
   "cell_type": "code",
   "execution_count": 10,
   "metadata": {},
   "outputs": [
    {
     "data": {
      "text/html": [
       "<div>\n",
       "<style scoped>\n",
       "    .dataframe tbody tr th:only-of-type {\n",
       "        vertical-align: middle;\n",
       "    }\n",
       "\n",
       "    .dataframe tbody tr th {\n",
       "        vertical-align: top;\n",
       "    }\n",
       "\n",
       "    .dataframe thead th {\n",
       "        text-align: right;\n",
       "    }\n",
       "</style>\n",
       "<table border=\"1\" class=\"dataframe\">\n",
       "  <thead>\n",
       "    <tr style=\"text-align: right;\">\n",
       "      <th></th>\n",
       "      <th>Trade Dt</th>\n",
       "      <th>Settl Dt</th>\n",
       "      <th>B/S</th>\n",
       "      <th>Exec Time</th>\n",
       "      <th>CUSIP</th>\n",
       "      <th>Qty</th>\n",
       "      <th>Description</th>\n",
       "      <th>Rate</th>\n",
       "      <th>Var</th>\n",
       "      <th>Mat Dt</th>\n",
       "      <th>St</th>\n",
       "      <th>Price</th>\n",
       "      <th>Yield</th>\n",
       "      <th>Net</th>\n",
       "      <th>YTM</th>\n",
       "    </tr>\n",
       "  </thead>\n",
       "  <tbody>\n",
       "    <tr>\n",
       "      <th>0</th>\n",
       "      <td>10/7/2014</td>\n",
       "      <td>10/10/2014</td>\n",
       "      <td>B</td>\n",
       "      <td>12:36:15</td>\n",
       "      <td>00344NBK9</td>\n",
       "      <td>25</td>\n",
       "      <td>ABILENE TEX CTFS OBLIG DTC ELIGIBLE</td>\n",
       "      <td>5.0</td>\n",
       "      <td>NaN</td>\n",
       "      <td>2/15/2022</td>\n",
       "      <td>TX</td>\n",
       "      <td>112.10</td>\n",
       "      <td>1.294</td>\n",
       "      <td>28,215.97</td>\n",
       "      <td>3.142</td>\n",
       "    </tr>\n",
       "    <tr>\n",
       "      <th>1</th>\n",
       "      <td>10/21/2014</td>\n",
       "      <td>10/24/2014</td>\n",
       "      <td>S</td>\n",
       "      <td>9:52:58</td>\n",
       "      <td>00344NBK9</td>\n",
       "      <td>25</td>\n",
       "      <td>ABILENE TEX CTFS OBLIG DTC ELIGIBLE</td>\n",
       "      <td>5.0</td>\n",
       "      <td>NaN</td>\n",
       "      <td>2/15/2022</td>\n",
       "      <td>TX</td>\n",
       "      <td>112.85</td>\n",
       "      <td>1.038</td>\n",
       "      <td>28,452.08</td>\n",
       "      <td>3.026</td>\n",
       "    </tr>\n",
       "  </tbody>\n",
       "</table>\n",
       "</div>"
      ],
      "text/plain": [
       "     Trade Dt    Settl Dt B/S Exec Time      CUSIP  Qty  \\\n",
       "0   10/7/2014  10/10/2014   B  12:36:15  00344NBK9   25   \n",
       "1  10/21/2014  10/24/2014   S   9:52:58  00344NBK9   25   \n",
       "\n",
       "                           Description  Rate  Var     Mat Dt  St   Price  \\\n",
       "0  ABILENE TEX CTFS OBLIG DTC ELIGIBLE   5.0  NaN  2/15/2022  TX  112.10   \n",
       "1  ABILENE TEX CTFS OBLIG DTC ELIGIBLE   5.0  NaN  2/15/2022  TX  112.85   \n",
       "\n",
       "   Yield        Net    YTM  \n",
       "0  1.294  28,215.97  3.142  \n",
       "1  1.038  28,452.08  3.026  "
      ]
     },
     "execution_count": 10,
     "metadata": {},
     "output_type": "execute_result"
    }
   ],
   "source": [
    "# Load .csv data\n",
    "data = pd.read_csv(\"TX_trades_2012-2014.csv\")\n",
    "data.head(2)"
   ]
  },
  {
   "cell_type": "code",
   "execution_count": 11,
   "metadata": {},
   "outputs": [
    {
     "data": {
      "text/html": [
       "<div>\n",
       "<style scoped>\n",
       "    .dataframe tbody tr th:only-of-type {\n",
       "        vertical-align: middle;\n",
       "    }\n",
       "\n",
       "    .dataframe tbody tr th {\n",
       "        vertical-align: top;\n",
       "    }\n",
       "\n",
       "    .dataframe thead th {\n",
       "        text-align: right;\n",
       "    }\n",
       "</style>\n",
       "<table border=\"1\" class=\"dataframe\">\n",
       "  <thead>\n",
       "    <tr style=\"text-align: right;\">\n",
       "      <th></th>\n",
       "      <th>Qty</th>\n",
       "      <th>Rate</th>\n",
       "      <th>Price</th>\n",
       "      <th>Yield</th>\n",
       "      <th>YTM</th>\n",
       "    </tr>\n",
       "  </thead>\n",
       "  <tbody>\n",
       "    <tr>\n",
       "      <th>count</th>\n",
       "      <td>22194.000000</td>\n",
       "      <td>22194.000000</td>\n",
       "      <td>22194.000000</td>\n",
       "      <td>22194.000000</td>\n",
       "      <td>22187.000000</td>\n",
       "    </tr>\n",
       "    <tr>\n",
       "      <th>mean</th>\n",
       "      <td>68.160088</td>\n",
       "      <td>4.604446</td>\n",
       "      <td>109.403779</td>\n",
       "      <td>2.505974</td>\n",
       "      <td>2.440408</td>\n",
       "    </tr>\n",
       "    <tr>\n",
       "      <th>std</th>\n",
       "      <td>128.122346</td>\n",
       "      <td>0.718508</td>\n",
       "      <td>6.752649</td>\n",
       "      <td>1.008119</td>\n",
       "      <td>1.838144</td>\n",
       "    </tr>\n",
       "    <tr>\n",
       "      <th>min</th>\n",
       "      <td>5.000000</td>\n",
       "      <td>0.000000</td>\n",
       "      <td>34.700000</td>\n",
       "      <td>0.000000</td>\n",
       "      <td>0.000000</td>\n",
       "    </tr>\n",
       "    <tr>\n",
       "      <th>25%</th>\n",
       "      <td>25.000000</td>\n",
       "      <td>4.000000</td>\n",
       "      <td>104.837750</td>\n",
       "      <td>1.754250</td>\n",
       "      <td>0.000000</td>\n",
       "    </tr>\n",
       "    <tr>\n",
       "      <th>50%</th>\n",
       "      <td>40.000000</td>\n",
       "      <td>5.000000</td>\n",
       "      <td>109.911500</td>\n",
       "      <td>2.526000</td>\n",
       "      <td>3.208000</td>\n",
       "    </tr>\n",
       "    <tr>\n",
       "      <th>75%</th>\n",
       "      <td>70.000000</td>\n",
       "      <td>5.000000</td>\n",
       "      <td>114.400000</td>\n",
       "      <td>3.257000</td>\n",
       "      <td>3.960000</td>\n",
       "    </tr>\n",
       "    <tr>\n",
       "      <th>max</th>\n",
       "      <td>2470.000000</td>\n",
       "      <td>6.880000</td>\n",
       "      <td>129.750000</td>\n",
       "      <td>6.840000</td>\n",
       "      <td>6.237000</td>\n",
       "    </tr>\n",
       "  </tbody>\n",
       "</table>\n",
       "</div>"
      ],
      "text/plain": [
       "                Qty          Rate         Price         Yield           YTM\n",
       "count  22194.000000  22194.000000  22194.000000  22194.000000  22187.000000\n",
       "mean      68.160088      4.604446    109.403779      2.505974      2.440408\n",
       "std      128.122346      0.718508      6.752649      1.008119      1.838144\n",
       "min        5.000000      0.000000     34.700000      0.000000      0.000000\n",
       "25%       25.000000      4.000000    104.837750      1.754250      0.000000\n",
       "50%       40.000000      5.000000    109.911500      2.526000      3.208000\n",
       "75%       70.000000      5.000000    114.400000      3.257000      3.960000\n",
       "max     2470.000000      6.880000    129.750000      6.840000      6.237000"
      ]
     },
     "execution_count": 11,
     "metadata": {},
     "output_type": "execute_result"
    }
   ],
   "source": [
    "data.describe()"
   ]
  },
  {
   "cell_type": "markdown",
   "metadata": {},
   "source": [
    "***\n",
    "Notes: \n",
    "* YTM count off from other features\n",
    "* min rate, yield, YTM needs attention\n",
    "* Qty skewed to lower range with 75% falling under 70, check for outliers\n",
    "* Rate/Yield/YTM data also showing some potential outliers\n",
    "***"
   ]
  },
  {
   "cell_type": "code",
   "execution_count": 20,
   "metadata": {},
   "outputs": [
    {
     "name": "stdout",
     "output_type": "stream",
     "text": [
      "<class 'pandas.core.frame.DataFrame'>\n",
      "RangeIndex: 22194 entries, 0 to 22193\n",
      "Data columns (total 15 columns):\n",
      " #   Column       Non-Null Count  Dtype  \n",
      "---  ------       --------------  -----  \n",
      " 0   Trade Dt     22194 non-null  object \n",
      " 1   Settl Dt     22194 non-null  object \n",
      " 2   B/S          22194 non-null  object \n",
      " 3   Exec Time    22194 non-null  object \n",
      " 4   CUSIP        22194 non-null  object \n",
      " 5   Qty          22194 non-null  int64  \n",
      " 6   Description  22194 non-null  object \n",
      " 7   Rate         22194 non-null  float64\n",
      " 8   Var          4 non-null      object \n",
      " 9   Mat Dt       22194 non-null  object \n",
      " 10  St           22194 non-null  object \n",
      " 11  Price        22194 non-null  float64\n",
      " 12  Yield        22194 non-null  float64\n",
      " 13  Net          22194 non-null  object \n",
      " 14  YTM          22187 non-null  float64\n",
      "dtypes: float64(4), int64(1), object(10)\n",
      "memory usage: 2.5+ MB\n"
     ]
    }
   ],
   "source": [
    "data.info()"
   ]
  },
  {
   "cell_type": "code",
   "execution_count": 23,
   "metadata": {},
   "outputs": [],
   "source": []
  },
  {
   "cell_type": "code",
   "execution_count": 21,
   "metadata": {},
   "outputs": [
    {
     "data": {
      "text/plain": [
       "Trade Dt           0\n",
       "Settl Dt           0\n",
       "B/S                0\n",
       "Exec Time          0\n",
       "CUSIP              0\n",
       "Qty                0\n",
       "Description        0\n",
       "Rate               0\n",
       "Var            22190\n",
       "Mat Dt             0\n",
       "St                 0\n",
       "Price              0\n",
       "Yield              0\n",
       "Net                0\n",
       "YTM                7\n",
       "dtype: int64"
      ]
     },
     "execution_count": 21,
     "metadata": {},
     "output_type": "execute_result"
    }
   ],
   "source": [
    "data.isnull().sum()"
   ]
  },
  {
   "cell_type": "code",
   "execution_count": 30,
   "metadata": {},
   "outputs": [
    {
     "data": {
      "text/html": [
       "<div>\n",
       "<style scoped>\n",
       "    .dataframe tbody tr th:only-of-type {\n",
       "        vertical-align: middle;\n",
       "    }\n",
       "\n",
       "    .dataframe tbody tr th {\n",
       "        vertical-align: top;\n",
       "    }\n",
       "\n",
       "    .dataframe thead th {\n",
       "        text-align: right;\n",
       "    }\n",
       "</style>\n",
       "<table border=\"1\" class=\"dataframe\">\n",
       "  <thead>\n",
       "    <tr style=\"text-align: right;\">\n",
       "      <th></th>\n",
       "      <th>Trade Dt</th>\n",
       "      <th>Settl Dt</th>\n",
       "      <th>B/S</th>\n",
       "      <th>Exec Time</th>\n",
       "      <th>CUSIP</th>\n",
       "      <th>Qty</th>\n",
       "      <th>Description</th>\n",
       "      <th>Rate</th>\n",
       "      <th>Var</th>\n",
       "      <th>Mat Dt</th>\n",
       "      <th>St</th>\n",
       "      <th>Price</th>\n",
       "      <th>Yield</th>\n",
       "      <th>Net</th>\n",
       "      <th>YTM</th>\n",
       "      <th>Dtype</th>\n",
       "    </tr>\n",
       "  </thead>\n",
       "  <tbody>\n",
       "  </tbody>\n",
       "</table>\n",
       "</div>"
      ],
      "text/plain": [
       "Empty DataFrame\n",
       "Columns: [Trade Dt, Settl Dt, B/S, Exec Time, CUSIP, Qty, Description, Rate, Var, Mat Dt, St, Price, Yield, Net, YTM, Dtype]\n",
       "Index: []"
      ]
     },
     "execution_count": 30,
     "metadata": {},
     "output_type": "execute_result"
    }
   ],
   "source": [
    "data[data['YTM'].isnull()]"
   ]
  },
  {
   "cell_type": "code",
   "execution_count": null,
   "metadata": {},
   "outputs": [],
   "source": []
  }
 ],
 "metadata": {
  "kernelspec": {
   "display_name": "Python 3",
   "language": "python",
   "name": "python3"
  },
  "language_info": {
   "codemirror_mode": {
    "name": "ipython",
    "version": 3
   },
   "file_extension": ".py",
   "mimetype": "text/x-python",
   "name": "python",
   "nbconvert_exporter": "python",
   "pygments_lexer": "ipython3",
   "version": "3.8.5"
  }
 },
 "nbformat": 4,
 "nbformat_minor": 4
}
