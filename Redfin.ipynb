{
 "cells": [
  {
   "cell_type": "code",
   "execution_count": 4,
   "metadata": {},
   "outputs": [
    {
     "name": "stdout",
     "output_type": "stream",
     "text": [
      "Collecting redfin\n",
      "  Downloading redfin-0.1.1-py3-none-any.whl (3.9 kB)\n",
      "Requirement already satisfied: requests in /opt/homebrew/anaconda3/lib/python3.8/site-packages (from redfin) (2.13.0)\n",
      "Installing collected packages: redfin\n",
      "Successfully installed redfin-0.1.1\n",
      "Note: you may need to restart the kernel to use updated packages.\n"
     ]
    }
   ],
   "source": [
    "pip install redfin"
   ]
  },
  {
   "cell_type": "code",
   "execution_count": 10,
   "metadata": {},
   "outputs": [
    {
     "ename": "TypeError",
     "evalue": "below_the_fold() takes 2 positional arguments but 3 were given",
     "output_type": "error",
     "traceback": [
      "\u001b[0;31m---------------------------------------------------------------------------\u001b[0m",
      "\u001b[0;31mTypeError\u001b[0m                                 Traceback (most recent call last)",
      "\u001b[0;32m<ipython-input-10-d6fe599d587c>\u001b[0m in \u001b[0;36m<module>\u001b[0;34m\u001b[0m\n\u001b[1;32m     12\u001b[0m \u001b[0mlisting_id\u001b[0m \u001b[0;34m=\u001b[0m \u001b[0minitial_info\u001b[0m\u001b[0;34m[\u001b[0m\u001b[0;34m'payload'\u001b[0m\u001b[0;34m]\u001b[0m\u001b[0;34m[\u001b[0m\u001b[0;34m'listingId'\u001b[0m\u001b[0;34m]\u001b[0m\u001b[0;34m\u001b[0m\u001b[0;34m\u001b[0m\u001b[0m\n\u001b[1;32m     13\u001b[0m \u001b[0;34m\u001b[0m\u001b[0m\n\u001b[0;32m---> 14\u001b[0;31m \u001b[0mmls_data\u001b[0m \u001b[0;34m=\u001b[0m \u001b[0mclient\u001b[0m\u001b[0;34m.\u001b[0m\u001b[0mbelow_the_fold\u001b[0m\u001b[0;34m(\u001b[0m\u001b[0mproperty_id\u001b[0m\u001b[0;34m,\u001b[0m \u001b[0mlisting_id\u001b[0m\u001b[0;34m)\u001b[0m\u001b[0;34m\u001b[0m\u001b[0;34m\u001b[0m\u001b[0m\n\u001b[0m",
      "\u001b[0;31mTypeError\u001b[0m: below_the_fold() takes 2 positional arguments but 3 were given"
     ]
    }
   ],
   "source": [
    "from redfin import Redfin\n",
    "\n",
    "client = Redfin()\n",
    "\n",
    "address = '4544 Radnor St, Detroit Michigan'\n",
    "\n",
    "response = client.search(address)\n",
    "url = response['payload']['exactMatch']['url']\n",
    "initial_info = client.initial_info(url)\n",
    "\n",
    "property_id = initial_info['payload']['propertyId']\n",
    "listing_id = initial_info['payload']['listingId']\n",
    "\n",
    "mls_data = client.below_the_fold(property_id, listing_id)"
   ]
  },
  {
   "cell_type": "code",
   "execution_count": 9,
   "metadata": {},
   "outputs": [
    {
     "data": {
      "text/plain": [
       "{'version': 430,\n",
       " 'errorMessage': 'Success',\n",
       " 'resultCode': 0,\n",
       " 'payload': {'responseCode': 200,\n",
       "  'marketId': 29,\n",
       "  'listingId': 124921811,\n",
       "  'propertyId': 60973374,\n",
       "  'dataSourceId': 144,\n",
       "  'riftPageType': 'sdp',\n",
       "  'isFMLS': False,\n",
       "  'pageExperimentInfo': {'offMarketDPExperimentInfo': {'pageType': 2,\n",
       "    'isEligibleForAssignedAgentOffMarketDPExperiment': False,\n",
       "    'shouldStandardizeAgentCTAs': False,\n",
       "    'shouldShowClaimButtonInAddressBanner': True},\n",
       "   'omdpHigherDescriptionExperimentInfo': {'isEligibleForHigherDescriptionExperiment': False,\n",
       "    'cohort': 'not_eligible'},\n",
       "   'ampRedirectEligibility': {'isEligible': True, 'gaExperimentId': ''},\n",
       "   'mortgageCalcSellsideFlyoutEligibility': {'cohort': 'VARIANT',\n",
       "    'isEligible': False,\n",
       "    'feature': 277201,\n",
       "    'gaExperimentId': 'MIlVb8hmSayaj5-oBZgixQ'},\n",
       "   'omdpReorderExperimentEligibility': {'isEligible': False,\n",
       "    'feature': 3818,\n",
       "    'gaExperimentId': 'nSSDr7jlSYibJXcKgZ8qGg'},\n",
       "   'displayAdsExperimentEligibility': {'isEligible': False,\n",
       "    'gaExperimentId': ''},\n",
       "   'shareButtonOMDPExperimentInfo': {'isEligible': True,\n",
       "    'feature': 393635994,\n",
       "    'gaExperimentId': ''}},\n",
       "  'hasAvm': True,\n",
       "  'marketName': 'detroit',\n",
       "  'businessMarkets': [45],\n",
       "  'deviceConfig': 3,\n",
       "  'preloadImageUrls': ['https://ssl.cdn-redfin.com/photo/144/mbphoto/441/genMid.5050024441_4.jpg'],\n",
       "  'pageType': 3,\n",
       "  'mlsId': '5050024441',\n",
       "  'shouldAmplifyPDP': False,\n",
       "  'latLong': {'latitude': 42.4075529, 'longitude': -82.9165703},\n",
       "  'listingAccessLevel': 1}}"
      ]
     },
     "execution_count": 9,
     "metadata": {},
     "output_type": "execute_result"
    }
   ],
   "source": [
    "initial_info"
   ]
  },
  {
   "cell_type": "code",
   "execution_count": null,
   "metadata": {},
   "outputs": [],
   "source": []
  }
 ],
 "metadata": {
  "kernelspec": {
   "display_name": "Python 3",
   "language": "python",
   "name": "python3"
  },
  "language_info": {
   "codemirror_mode": {
    "name": "ipython",
    "version": 3
   },
   "file_extension": ".py",
   "mimetype": "text/x-python",
   "name": "python",
   "nbconvert_exporter": "python",
   "pygments_lexer": "ipython3",
   "version": "3.8.5"
  }
 },
 "nbformat": 4,
 "nbformat_minor": 4
}
