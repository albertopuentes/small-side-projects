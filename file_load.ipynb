{
 "cells": [
  {
   "cell_type": "code",
   "execution_count": 11,
   "metadata": {},
   "outputs": [],
   "source": [
    "deacot_file = \"/tmp/deacot2021.txt\"\n",
    "da_file = \"/tmp/deacot_DA_2021.txt\"\n",
    "# Data Retreival and Handling\n",
    "# Function to retrieve reports\n",
    "def get_COT(url, file_name):\n",
    "    with urllib.request.urlopen(url) as response, open(file_name, \"wb\") as out_file:\n",
    "        shutil.copyfileobj(response, out_file)\n",
    "    with zipfile.ZipFile(file_name) as zf:\n",
    "        zf.extractall()"
   ]
  },
  {
   "cell_type": "code",
   "execution_count": 12,
   "metadata": {},
   "outputs": [
    {
     "ename": "NameError",
     "evalue": "name 'out_file' is not defined",
     "output_type": "error",
     "traceback": [
      "\u001b[0;31m---------------------------------------------------------------------------\u001b[0m",
      "\u001b[0;31mNameError\u001b[0m                                 Traceback (most recent call last)",
      "\u001b[0;32m<ipython-input-12-5ea1123e70ee>\u001b[0m in \u001b[0;36m<module>\u001b[0;34m\u001b[0m\n\u001b[0;32m----> 1\u001b[0;31m \u001b[0mout_file\u001b[0m\u001b[0;34m\u001b[0m\u001b[0;34m\u001b[0m\u001b[0m\n\u001b[0m",
      "\u001b[0;31mNameError\u001b[0m: name 'out_file' is not defined"
     ]
    }
   ],
   "source": []
  },
  {
   "cell_type": "code",
   "execution_count": 13,
   "metadata": {},
   "outputs": [
    {
     "name": "stdin",
     "output_type": "stream",
     "text": [
      "Please enter the name of a great person:  Alex\n"
     ]
    },
    {
     "ename": "FileNotFoundError",
     "evalue": "[Errno 2] No such file or directory: 'Spanish'",
     "output_type": "error",
     "traceback": [
      "\u001b[0;31m---------------------------------------------------------------------------\u001b[0m",
      "\u001b[0;31mFileNotFoundError\u001b[0m                         Traceback (most recent call last)",
      "\u001b[0;32m<ipython-input-13-a60f7a382c4f>\u001b[0m in \u001b[0;36m<module>\u001b[0;34m\u001b[0m\n\u001b[1;32m     18\u001b[0m \u001b[0;31m# input the name you want to check against\u001b[0m\u001b[0;34m\u001b[0m\u001b[0;34m\u001b[0m\u001b[0;34m\u001b[0m\u001b[0m\n\u001b[1;32m     19\u001b[0m \u001b[0mtext\u001b[0m \u001b[0;34m=\u001b[0m \u001b[0minput\u001b[0m\u001b[0;34m(\u001b[0m\u001b[0;34m'Please enter the name of a great person: '\u001b[0m\u001b[0;34m)\u001b[0m\u001b[0;34m\u001b[0m\u001b[0;34m\u001b[0m\u001b[0m\n\u001b[0;32m---> 20\u001b[0;31m \u001b[0mletsgo\u001b[0m \u001b[0;34m=\u001b[0m \u001b[0mfilter\u001b[0m\u001b[0;34m(\u001b[0m\u001b[0mtext\u001b[0m\u001b[0;34m,\u001b[0m\u001b[0;34m'Spanish'\u001b[0m\u001b[0;34m,\u001b[0m \u001b[0;34m'Spanish2'\u001b[0m\u001b[0;34m)\u001b[0m\u001b[0;34m\u001b[0m\u001b[0;34m\u001b[0m\u001b[0m\n\u001b[0m",
      "\u001b[0;32m<ipython-input-13-a60f7a382c4f>\u001b[0m in \u001b[0;36mfilter\u001b[0;34m(txt, oldfile, newfile)\u001b[0m\n\u001b[1;32m      7\u001b[0m \u001b[0;34m\u001b[0m\u001b[0m\n\u001b[1;32m      8\u001b[0m     \u001b[0moutfile\u001b[0m \u001b[0;34m=\u001b[0m \u001b[0mopen\u001b[0m\u001b[0;34m(\u001b[0m\u001b[0mnewfile\u001b[0m\u001b[0;34m,\u001b[0m \u001b[0;34m'w'\u001b[0m\u001b[0;34m)\u001b[0m\u001b[0;34m\u001b[0m\u001b[0;34m\u001b[0m\u001b[0m\n\u001b[0;32m----> 9\u001b[0;31m     \u001b[0;32mwith\u001b[0m \u001b[0mopen\u001b[0m\u001b[0;34m(\u001b[0m\u001b[0moldfile\u001b[0m\u001b[0;34m,\u001b[0m \u001b[0;34m'r'\u001b[0m\u001b[0;34m,\u001b[0m \u001b[0mencoding\u001b[0m\u001b[0;34m=\u001b[0m\u001b[0;34m'utf-8'\u001b[0m\u001b[0;34m)\u001b[0m \u001b[0;32mas\u001b[0m \u001b[0minfile\u001b[0m\u001b[0;34m:\u001b[0m\u001b[0;34m\u001b[0m\u001b[0;34m\u001b[0m\u001b[0m\n\u001b[0m\u001b[1;32m     10\u001b[0m         \u001b[0;32mfor\u001b[0m \u001b[0mline\u001b[0m \u001b[0;32min\u001b[0m \u001b[0minfile\u001b[0m\u001b[0;34m:\u001b[0m\u001b[0;34m\u001b[0m\u001b[0;34m\u001b[0m\u001b[0m\n\u001b[1;32m     11\u001b[0m             \u001b[0;32mif\u001b[0m \u001b[0mline\u001b[0m\u001b[0;34m.\u001b[0m\u001b[0mstartswith\u001b[0m\u001b[0;34m(\u001b[0m\u001b[0mtxt\u001b[0m\u001b[0;34m)\u001b[0m\u001b[0;34m:\u001b[0m\u001b[0;34m\u001b[0m\u001b[0;34m\u001b[0m\u001b[0m\n",
      "\u001b[0;31mFileNotFoundError\u001b[0m: [Errno 2] No such file or directory: 'Spanish'"
     ]
    }
   ],
   "source": [
    "def filter(txt, oldfile, newfile):\n",
    "    '''\\\n",
    "    Read a list of names from a file line by line into an output file.\n",
    "    If a line begins with a particular name, insert a string of text\n",
    "    after the name before appending the line to the output file.\n",
    "    '''\n",
    "\n",
    "    outfile = open(newfile, 'w')\n",
    "    with open(oldfile, 'r', encoding='utf-8') as infile:\n",
    "        for line in infile:\n",
    "            if line.startswith(txt):\n",
    "                line = line[0:len(txt)] + ' - Truly a great person!\\n'\n",
    "            outfile.write(line)\n",
    "\n",
    "    outfile.close()\n",
    "    return # Do I gain anything by including this?\n",
    "\n",
    "# input the name you want to check against\n",
    "text = input('Please enter the name of a great person: ')    \n",
    "letsgo = filter(text,'Spanish', 'Spanish2')"
   ]
  },
  {
   "cell_type": "code",
   "execution_count": 14,
   "metadata": {},
   "outputs": [
    {
     "name": "stdin",
     "output_type": "stream",
     "text": [
      "Please enter the name of a great person:  Alex\n"
     ]
    }
   ],
   "source": [
    "text = input('Please enter the name of a great person: ') "
   ]
  },
  {
   "cell_type": "code",
   "execution_count": 23,
   "metadata": {},
   "outputs": [],
   "source": [
    "deacot_file = \"/tmp/deacot2021.txt\"\n",
    "da_file = \"/tmp/deacot_DA_2021.txt\"\n",
    "# Data Retreival and Handling\n",
    "# Function to retrieve reports\n",
    "def get_COT(url, file_name):\n",
    "    with urllib.request.urlopen(url) as response, open(file_name, \"wb\") as out_file:\n",
    "        shutil.copyfileobj(response, out_file)\n",
    "    with zipfile.ZipFile(file_name) as zf:\n",
    "        zf.extractall()\n",
    "# Function to make sure things are fresh for data\n",
    "def get_reports():\n",
    "    freshness_date = datetime.now() - timedelta(days=7)\n",
    "    if os.path.exists(deacot_file):\n",
    "        filetime = datetime.fromtimestamp(os.path.getctime(deacot_file))\n",
    "        if (filetime - timedelta(days=7)) <= freshness_date:\n",
    "            print(\"Deacot file exists and is current - using cached data\")\n",
    "        else:\n",
    "            get_COT(\"https://www.cftc.gov/files/dea/history/deacot2021.zip\", \"deacot2021.zip\",) \n",
    "            os.rename(r\"annual.txt\", deacot_file)\n",
    "            print(\"Deacot file is stale - getting fresh copy\")\n",
    "    else:\n",
    "        print(\"Deacot file does not exist - getting fresh copy\")\n",
    "        get_COT(\"https://www.cftc.gov/files/dea/history/deacot2021.zip\", \"deacot2021.zip\")\n",
    "        os.rename(r\"annual.txt\", deacot_file)\n",
    "    if os.path.exists(da_file):\n",
    "        filetime = datetime.fromtimestamp(os.path.getctime(da_file))\n",
    "        if (filetime - timedelta(days=7)) <= freshness_date:\n",
    "            print(\"Disaggregation report file exists and is current - using cached data\")\n",
    "        else:\n",
    "            get_COT( \"https://www.cftc.gov/files/dea/history/fut_disagg_txt_2021.zip\", \"fut_disagg_txt_2021.zip\",)\n",
    "            os.rename(r\"f_year.txt\", da_file)\n",
    "            print(\"Disaggregation report file is stale - getting fresh copy\")\n",
    "    else:\n",
    "        print(\"Disaggregation report file does not exist - getting fresh copy\")\n",
    "        get_COT(\"https://www.cftc.gov/files/dea/history/fut_disagg_txt_2021.zip\", \"fut_disagg_txt_2021.zip\",)\n",
    "        os.rename(r\"f_year.txt\", da_file)"
   ]
  },
  {
   "cell_type": "code",
   "execution_count": 43,
   "metadata": {},
   "outputs": [],
   "source": [
    "import playsound"
   ]
  },
  {
   "cell_type": "code",
   "execution_count": 47,
   "metadata": {},
   "outputs": [
    {
     "ename": "TypeError",
     "evalue": "'module' object is not callable",
     "output_type": "error",
     "traceback": [
      "\u001b[0;31m---------------------------------------------------------------------------\u001b[0m",
      "\u001b[0;31mTypeError\u001b[0m                                 Traceback (most recent call last)",
      "\u001b[0;32m<ipython-input-47-e2533d7b5666>\u001b[0m in \u001b[0;36m<module>\u001b[0;34m\u001b[0m\n\u001b[0;32m----> 1\u001b[0;31m \u001b[0mplaysound\u001b[0m\u001b[0;34m(\u001b[0m\u001b[0;34m'air_raid.wav'\u001b[0m\u001b[0;34m)\u001b[0m\u001b[0;34m\u001b[0m\u001b[0;34m\u001b[0m\u001b[0m\n\u001b[0m",
      "\u001b[0;31mTypeError\u001b[0m: 'module' object is not callable"
     ]
    }
   ],
   "source": [
    "playsound('air_raid.wav')"
   ]
  },
  {
   "cell_type": "code",
   "execution_count": null,
   "metadata": {},
   "outputs": [],
   "source": []
  }
 ],
 "metadata": {
  "kernelspec": {
   "display_name": "Python 3",
   "language": "python",
   "name": "python3"
  },
  "language_info": {
   "codemirror_mode": {
    "name": "ipython",
    "version": 3
   },
   "file_extension": ".py",
   "mimetype": "text/x-python",
   "name": "python",
   "nbconvert_exporter": "python",
   "pygments_lexer": "ipython3",
   "version": "3.8.5"
  }
 },
 "nbformat": 4,
 "nbformat_minor": 4
}
