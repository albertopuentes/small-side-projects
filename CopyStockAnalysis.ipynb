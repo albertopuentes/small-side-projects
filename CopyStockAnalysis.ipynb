{
 "cells": [
  {
   "cell_type": "code",
   "execution_count": 2,
   "metadata": {},
   "outputs": [],
   "source": [
    "from bs4 import BeautifulSoup\n",
    "from urllib.request import urlopen, Request"
   ]
  },
  {
   "cell_type": "code",
   "execution_count": 3,
   "metadata": {},
   "outputs": [],
   "source": [
    "stock = 'INFY'\n",
    "link = f'https://www.screener.in/company/{stock}'\n",
    "hdr = {'User-Agent':'Mozilla/5.0'}\n",
    "req = Request(link,headers=hdr)"
   ]
  },
  {
   "cell_type": "code",
   "execution_count": 12,
   "metadata": {},
   "outputs": [
    {
     "name": "stdout",
     "output_type": "stream",
     "text": [
      "MARKET CAPITILIZATION - INFY: 640247.0 Cr\n"
     ]
    }
   ],
   "source": [
    "try:\n",
    "    page=urlopen(req)\n",
    "    soup = BeautifulSoup(page)\n",
    "    \n",
    "    div_html = soup.find('div',{'class': 'company-ratios'})\n",
    "    ul_html = div_html.find('ul',{'id': 'top-ratios'})\n",
    "    market_cap = 0.0\n",
    "        \n",
    "    for li in ul_html.find_all(\"li\"):\n",
    "        name_span = li.find('span',{'class':'name'})\n",
    "        if 'Market Cap' in name_span.text: \n",
    "            num_span = li.find('span',{'class':'number'})\n",
    "            num_span = num_span.text.replace(',', '')\n",
    "            market_cap = float(num_span) if (num_span != '') else 0.0\n",
    "            break\n",
    "    \n",
    "    print(f'MARKET CAPITILIZATION - {stock}: {market_cap} Cr')\n",
    "    \n",
    "except:\n",
    "    print(f'EXCEPTION THROWN: UNABLE TO FETCH DATA FOR {stock}')"
   ]
  },
  {
   "cell_type": "code",
   "execution_count": null,
   "metadata": {},
   "outputs": [],
   "source": []
  }
 ],
 "metadata": {
  "kernelspec": {
   "display_name": "Python 3",
   "language": "python",
   "name": "python3"
  },
  "language_info": {
   "codemirror_mode": {
    "name": "ipython",
    "version": 3
   },
   "file_extension": ".py",
   "mimetype": "text/x-python",
   "name": "python",
   "nbconvert_exporter": "python",
   "pygments_lexer": "ipython3",
   "version": "3.8.5"
  }
 },
 "nbformat": 4,
 "nbformat_minor": 4
}
