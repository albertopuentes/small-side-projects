{
 "cells": [
  {
   "cell_type": "code",
   "execution_count": null,
   "metadata": {},
   "outputs": [],
   "source": [
    "import cbpro\n",
    "import pandas as pd\n",
    "\n",
    "from api import Coinbase_API\n",
    "from api import Coinbase_secret\n",
    "from api import Coinbase_pass\n",
    "\n",
    "api_key = Coinbase_API\n",
    "api_secret = Coinbase_secret\n",
    "api_pass = Coinbase_pass\n",
    "\n",
    "from coinbase.wallet.client import Client"
   ]
  },
  {
   "cell_type": "code",
   "execution_count": null,
   "metadata": {},
   "outputs": [],
   "source": [
    "help(client)"
   ]
  },
  {
   "cell_type": "code",
   "execution_count": null,
   "metadata": {},
   "outputs": [],
   "source": [
    "stream = TextWebsocketClient(products=['ETH-USD'],channels=['ticker'])"
   ]
  },
  {
   "cell_type": "code",
   "execution_count": null,
   "metadata": {},
   "outputs": [],
   "source": [
    "help(stream)"
   ]
  },
  {
   "cell_type": "code",
   "execution_count": 2,
   "metadata": {},
   "outputs": [
    {
     "name": "stdout",
     "output_type": "stream",
     "text": [
      "Help on class WebsocketClient in module cbpro.websocket_client:\n",
      "\n",
      "class WebsocketClient(builtins.object)\n",
      " |  WebsocketClient(url='wss://ws-feed.pro.coinbase.com', products=None, message_type='subscribe', mongo_collection=None, should_print=True, auth=False, api_key='', api_secret='', api_passphrase='', channels=None)\n",
      " |  \n",
      " |  Methods defined here:\n",
      " |  \n",
      " |  __init__(self, url='wss://ws-feed.pro.coinbase.com', products=None, message_type='subscribe', mongo_collection=None, should_print=True, auth=False, api_key='', api_secret='', api_passphrase='', channels=None)\n",
      " |      Initialize self.  See help(type(self)) for accurate signature.\n",
      " |  \n",
      " |  close(self)\n",
      " |  \n",
      " |  on_close(self)\n",
      " |  \n",
      " |  on_error(self, e, data=None)\n",
      " |  \n",
      " |  on_message(self, msg)\n",
      " |  \n",
      " |  on_open(self)\n",
      " |  \n",
      " |  start(self)\n",
      " |  \n",
      " |  ----------------------------------------------------------------------\n",
      " |  Data descriptors defined here:\n",
      " |  \n",
      " |  __dict__\n",
      " |      dictionary for instance variables (if defined)\n",
      " |  \n",
      " |  __weakref__\n",
      " |      list of weak references to the object (if defined)\n",
      "\n"
     ]
    }
   ],
   "source": [
    "help(cbpro.WebsocketClient)"
   ]
  },
  {
   "cell_type": "code",
   "execution_count": 1,
   "metadata": {},
   "outputs": [
    {
     "name": "stdout",
     "output_type": "stream",
     "text": [
      "wss://ws-feed.pro.coinbase.com ['ETH-USDT'] ['ticker']\n",
      "\n",
      "message_count = 0 \n",
      "\n",
      "Message type: ticker \t@ 3282.130\n",
      "\n",
      "message_count = 2 \n",
      "\n",
      "\n",
      "message_count = 2 \n",
      "\n",
      "\n",
      "message_count = 2 \n",
      "\n",
      "\n",
      "message_count = 2 \n",
      "\n",
      "\n",
      "message_count = 2 \n",
      "\n",
      "Message type: ticker \t@ 3282.490\n",
      "Message type: ticker \t@ 3282.490\n",
      "Message type: ticker \t@ 3282.490\n",
      "Message type: ticker \t@ 3282.470\n",
      "Message type: ticker \t@ 3282.470\n",
      "Message type: ticker \t@ 3282.140\n",
      "Message type: ticker \t@ 3281.960\n",
      "\n",
      "message_count = 9 \n",
      "\n",
      "Message type: ticker \t@ 3281.940\n",
      "Message type: ticker \t@ 3280.990\n",
      "Closing\n"
     ]
    }
   ],
   "source": [
    "import time, cbpro\n",
    "class myWebsocketClient(cbpro.WebsocketClient):\n",
    "    def on_open(self):\n",
    "        self.url = \"wss://ws-feed.pro.coinbase.com/\"\n",
    "        self.products = [\"ETH-USDT\"]\n",
    "        self.channels=[\"ticker\"]\n",
    "        self.message_count = 0\n",
    "    def on_message(self, msg):\n",
    "        self.message_count += 1\n",
    "        if 'price' in msg and 'type' in msg:\n",
    "            print (\"Message type:\", msg[\"type\"],\n",
    "                   \"\\t@ {:.3f}\".format(float(msg[\"price\"])))\n",
    "    def on_close(self):\n",
    "        print(\"Closing\")\n",
    "\n",
    "wsClient = myWebsocketClient()\n",
    "wsClient.start()\n",
    "print(wsClient.url, wsClient.products, wsClient.channels)\n",
    "while (wsClient.message_count < 10):\n",
    "    print (\"\\nmessage_count =\", \"{} \\n\".format(wsClient.message_count))\n",
    "    time.sleep(1)\n",
    "wsClient.close()"
   ]
  },
  {
   "cell_type": "code",
   "execution_count": 5,
   "metadata": {},
   "outputs": [
    {
     "ename": "NameError",
     "evalue": "name 'TextWebsocketClient' is not defined",
     "output_type": "error",
     "traceback": [
      "\u001b[0;31m---------------------------------------------------------------------------\u001b[0m",
      "\u001b[0;31mNameError\u001b[0m                                 Traceback (most recent call last)",
      "\u001b[0;32m<ipython-input-5-2e8558e774d6>\u001b[0m in \u001b[0;36m<module>\u001b[0;34m\u001b[0m\n\u001b[0;32m----> 1\u001b[0;31m \u001b[0mstream\u001b[0m \u001b[0;34m=\u001b[0m \u001b[0mTextWebsocketClient\u001b[0m\u001b[0;34m(\u001b[0m\u001b[0mproducts\u001b[0m\u001b[0;34m=\u001b[0m\u001b[0;34m[\u001b[0m\u001b[0;34m'ETH-USD'\u001b[0m\u001b[0;34m]\u001b[0m\u001b[0;34m,\u001b[0m\u001b[0mchannels\u001b[0m\u001b[0;34m=\u001b[0m\u001b[0;34m[\u001b[0m\u001b[0;34m'ticker'\u001b[0m\u001b[0;34m]\u001b[0m\u001b[0;34m)\u001b[0m\u001b[0;34m\u001b[0m\u001b[0;34m\u001b[0m\u001b[0m\n\u001b[0m\u001b[1;32m      2\u001b[0m \u001b[0mstream\u001b[0m\u001b[0;34m\u001b[0m\u001b[0;34m\u001b[0m\u001b[0m\n",
      "\u001b[0;31mNameError\u001b[0m: name 'TextWebsocketClient' is not defined"
     ]
    }
   ],
   "source": [
    "#stream = TextWebsocketClient(products=['ETH-USD'],channels=['ticker'])\n",
    "stream = TextWebsocketClient(products=['ETH-USD'],channels=['ticker'])\n",
    "stream"
   ]
  },
  {
   "cell_type": "markdown",
   "metadata": {},
   "source": [
    "### Authenticated Client"
   ]
  },
  {
   "cell_type": "code",
   "execution_count": 8,
   "metadata": {},
   "outputs": [],
   "source": [
    "from api import Coinbase_API\n",
    "from api import Coinbase_secret\n",
    "from api import Coinbase_pass\n",
    "\n",
    "api_key = Coinbase_API\n",
    "api_secret = Coinbase_secret\n",
    "api_pass = Coinbase_pass"
   ]
  },
  {
   "cell_type": "code",
   "execution_count": 9,
   "metadata": {},
   "outputs": [],
   "source": [
    "url = 'https://api.pro.coinbase.com'\n",
    "client = cbpro.AuthenticatedClient(\n",
    "    api_key,\n",
    "    api_secret,\n",
    "    api_pass,\n",
    "    api_url = url)"
   ]
  },
  {
   "cell_type": "code",
   "execution_count": 10,
   "metadata": {},
   "outputs": [],
   "source": [
    "accounts = client.get_accounts()"
   ]
  },
  {
   "cell_type": "code",
   "execution_count": 11,
   "metadata": {},
   "outputs": [],
   "source": [
    "for acc in accounts:\n",
    "    currency = acc.get('currency')\n",
    "    if currency == 'SHIB':\n",
    "        acc_id = acc.get('id')"
   ]
  },
  {
   "cell_type": "code",
   "execution_count": 12,
   "metadata": {},
   "outputs": [],
   "source": [
    "acc_history = client.get_account_history(acc_id)"
   ]
  },
  {
   "cell_type": "code",
   "execution_count": 14,
   "metadata": {},
   "outputs": [
    {
     "ename": "IndentationError",
     "evalue": "unexpected indent (<ipython-input-14-7b1d23c4bee4>, line 4)",
     "output_type": "error",
     "traceback": [
      "\u001b[0;36m  File \u001b[0;32m\"<ipython-input-14-7b1d23c4bee4>\"\u001b[0;36m, line \u001b[0;32m4\u001b[0m\n\u001b[0;31m    print(json.dumps(hist, indent=1))\u001b[0m\n\u001b[0m    ^\u001b[0m\n\u001b[0;31mIndentationError\u001b[0m\u001b[0;31m:\u001b[0m unexpected indent\n"
     ]
    }
   ],
   "source": [
    "import json\n",
    "\n",
    "#for hist in acc_history:\n",
    "    print(json.dumps(hist, indent=1))\n",
    "    "
   ]
  },
  {
   "cell_type": "markdown",
   "metadata": {},
   "source": [
    "### Public Client"
   ]
  },
  {
   "cell_type": "code",
   "execution_count": null,
   "metadata": {},
   "outputs": [],
   "source": [
    "c = cbpro.PublicClient()\n",
    "\n",
    "data = pd.DataFrame(c.get_products())\n",
    "data.tail().T"
   ]
  },
  {
   "cell_type": "code",
   "execution_count": null,
   "metadata": {},
   "outputs": [],
   "source": [
    "ticker = c.get_product_ticker(product_id='ETH-USD')\n",
    "ticker"
   ]
  },
  {
   "cell_type": "code",
   "execution_count": null,
   "metadata": {},
   "outputs": [],
   "source": [
    "import requests\n",
    "\n",
    "ticker = requests.get('https://api.pro.coinbase.com/products/ADA-USD/ticker').json()\n",
    "ticker"
   ]
  },
  {
   "cell_type": "code",
   "execution_count": null,
   "metadata": {},
   "outputs": [],
   "source": []
  }
 ],
 "metadata": {
  "kernelspec": {
   "display_name": "Python 3",
   "language": "python",
   "name": "python3"
  },
  "language_info": {
   "codemirror_mode": {
    "name": "ipython",
    "version": 3
   },
   "file_extension": ".py",
   "mimetype": "text/x-python",
   "name": "python",
   "nbconvert_exporter": "python",
   "pygments_lexer": "ipython3",
   "version": "3.8.5"
  }
 },
 "nbformat": 4,
 "nbformat_minor": 4
}
