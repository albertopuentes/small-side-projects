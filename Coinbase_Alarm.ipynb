{
 "cells": [
  {
   "cell_type": "code",
   "execution_count": 1,
   "metadata": {},
   "outputs": [],
   "source": [
    "import cbpro\n",
    "import pandas as pd\n",
    "\n",
    "from api import Coinbase_API\n",
    "from api import Coinbase_secret\n",
    "from coinbase.wallet.client import Client"
   ]
  },
  {
   "cell_type": "code",
   "execution_count": 5,
   "metadata": {},
   "outputs": [
    {
     "ename": "AuthenticationError",
     "evalue": "APIError(id=authentication_error): invalid api key",
     "output_type": "error",
     "traceback": [
      "\u001b[0;31m---------------------------------------------------------------------------\u001b[0m",
      "\u001b[0;31mAuthenticationError\u001b[0m                       Traceback (most recent call last)",
      "\u001b[0;32m<ipython-input-5-3f1de3e59e25>\u001b[0m in \u001b[0;36m<module>\u001b[0;34m\u001b[0m\n\u001b[1;32m      6\u001b[0m \u001b[0mmessage\u001b[0m \u001b[0;34m=\u001b[0m \u001b[0;34m[\u001b[0m\u001b[0;34m]\u001b[0m\u001b[0;34m\u001b[0m\u001b[0;34m\u001b[0m\u001b[0m\n\u001b[1;32m      7\u001b[0m \u001b[0;34m\u001b[0m\u001b[0m\n\u001b[0;32m----> 8\u001b[0;31m \u001b[0maccounts\u001b[0m \u001b[0;34m=\u001b[0m \u001b[0mclient\u001b[0m\u001b[0;34m.\u001b[0m\u001b[0mget_accounts\u001b[0m\u001b[0;34m(\u001b[0m\u001b[0;34m)\u001b[0m\u001b[0;34m\u001b[0m\u001b[0;34m\u001b[0m\u001b[0m\n\u001b[0m\u001b[1;32m      9\u001b[0m \u001b[0;32mfor\u001b[0m \u001b[0mwallet\u001b[0m \u001b[0;32min\u001b[0m \u001b[0maccounts\u001b[0m\u001b[0;34m.\u001b[0m\u001b[0mdata\u001b[0m\u001b[0;34m:\u001b[0m\u001b[0;34m\u001b[0m\u001b[0;34m\u001b[0m\u001b[0m\n\u001b[1;32m     10\u001b[0m     \u001b[0mmessage\u001b[0m\u001b[0;34m.\u001b[0m\u001b[0mappend\u001b[0m\u001b[0;34m(\u001b[0m \u001b[0mstr\u001b[0m\u001b[0;34m(\u001b[0m\u001b[0mwallet\u001b[0m\u001b[0;34m[\u001b[0m\u001b[0;34m'name'\u001b[0m\u001b[0;34m]\u001b[0m\u001b[0;34m)\u001b[0m \u001b[0;34m+\u001b[0m \u001b[0;34m' '\u001b[0m \u001b[0;34m+\u001b[0m   \u001b[0mstr\u001b[0m\u001b[0;34m(\u001b[0m\u001b[0mwallet\u001b[0m\u001b[0;34m[\u001b[0m\u001b[0;34m'native_balance'\u001b[0m\u001b[0;34m]\u001b[0m\u001b[0;34m)\u001b[0m \u001b[0;34m)\u001b[0m\u001b[0;34m\u001b[0m\u001b[0;34m\u001b[0m\u001b[0m\n",
      "\u001b[0;32m/opt/homebrew/anaconda3/lib/python3.8/site-packages/coinbase/wallet/client.py\u001b[0m in \u001b[0;36mget_accounts\u001b[0;34m(self, **params)\u001b[0m\n\u001b[1;32m    235\u001b[0m   \u001b[0;32mdef\u001b[0m \u001b[0mget_accounts\u001b[0m\u001b[0;34m(\u001b[0m\u001b[0mself\u001b[0m\u001b[0;34m,\u001b[0m \u001b[0;34m**\u001b[0m\u001b[0mparams\u001b[0m\u001b[0;34m)\u001b[0m\u001b[0;34m:\u001b[0m\u001b[0;34m\u001b[0m\u001b[0;34m\u001b[0m\u001b[0m\n\u001b[1;32m    236\u001b[0m     \u001b[0;34m\"\"\"https://developers.coinbase.com/api/v2#list-accounts\"\"\"\u001b[0m\u001b[0;34m\u001b[0m\u001b[0;34m\u001b[0m\u001b[0m\n\u001b[0;32m--> 237\u001b[0;31m     \u001b[0mresponse\u001b[0m \u001b[0;34m=\u001b[0m \u001b[0mself\u001b[0m\u001b[0;34m.\u001b[0m\u001b[0m_get\u001b[0m\u001b[0;34m(\u001b[0m\u001b[0;34m'v2'\u001b[0m\u001b[0;34m,\u001b[0m \u001b[0;34m'accounts'\u001b[0m\u001b[0;34m,\u001b[0m \u001b[0mparams\u001b[0m\u001b[0;34m=\u001b[0m\u001b[0mparams\u001b[0m\u001b[0;34m)\u001b[0m\u001b[0;34m\u001b[0m\u001b[0;34m\u001b[0m\u001b[0m\n\u001b[0m\u001b[1;32m    238\u001b[0m     \u001b[0;32mreturn\u001b[0m \u001b[0mself\u001b[0m\u001b[0;34m.\u001b[0m\u001b[0m_make_api_object\u001b[0m\u001b[0;34m(\u001b[0m\u001b[0mresponse\u001b[0m\u001b[0;34m,\u001b[0m \u001b[0mAccount\u001b[0m\u001b[0;34m)\u001b[0m\u001b[0;34m\u001b[0m\u001b[0;34m\u001b[0m\u001b[0m\n\u001b[1;32m    239\u001b[0m \u001b[0;34m\u001b[0m\u001b[0m\n",
      "\u001b[0;32m/opt/homebrew/anaconda3/lib/python3.8/site-packages/coinbase/wallet/client.py\u001b[0m in \u001b[0;36m_get\u001b[0;34m(self, *args, **kwargs)\u001b[0m\n\u001b[1;32m    127\u001b[0m \u001b[0;34m\u001b[0m\u001b[0m\n\u001b[1;32m    128\u001b[0m   \u001b[0;32mdef\u001b[0m \u001b[0m_get\u001b[0m\u001b[0;34m(\u001b[0m\u001b[0mself\u001b[0m\u001b[0;34m,\u001b[0m \u001b[0;34m*\u001b[0m\u001b[0margs\u001b[0m\u001b[0;34m,\u001b[0m \u001b[0;34m**\u001b[0m\u001b[0mkwargs\u001b[0m\u001b[0;34m)\u001b[0m\u001b[0;34m:\u001b[0m\u001b[0;34m\u001b[0m\u001b[0;34m\u001b[0m\u001b[0m\n\u001b[0;32m--> 129\u001b[0;31m     \u001b[0;32mreturn\u001b[0m \u001b[0mself\u001b[0m\u001b[0;34m.\u001b[0m\u001b[0m_request\u001b[0m\u001b[0;34m(\u001b[0m\u001b[0;34m'get'\u001b[0m\u001b[0;34m,\u001b[0m \u001b[0;34m*\u001b[0m\u001b[0margs\u001b[0m\u001b[0;34m,\u001b[0m \u001b[0;34m**\u001b[0m\u001b[0mkwargs\u001b[0m\u001b[0;34m)\u001b[0m\u001b[0;34m\u001b[0m\u001b[0;34m\u001b[0m\u001b[0m\n\u001b[0m\u001b[1;32m    130\u001b[0m \u001b[0;34m\u001b[0m\u001b[0m\n\u001b[1;32m    131\u001b[0m   \u001b[0;32mdef\u001b[0m \u001b[0m_post\u001b[0m\u001b[0;34m(\u001b[0m\u001b[0mself\u001b[0m\u001b[0;34m,\u001b[0m \u001b[0;34m*\u001b[0m\u001b[0margs\u001b[0m\u001b[0;34m,\u001b[0m \u001b[0;34m**\u001b[0m\u001b[0mkwargs\u001b[0m\u001b[0;34m)\u001b[0m\u001b[0;34m:\u001b[0m\u001b[0;34m\u001b[0m\u001b[0;34m\u001b[0m\u001b[0m\n",
      "\u001b[0;32m/opt/homebrew/anaconda3/lib/python3.8/site-packages/coinbase/wallet/client.py\u001b[0m in \u001b[0;36m_request\u001b[0;34m(self, method, *relative_path_parts, **kwargs)\u001b[0m\n\u001b[1;32m    114\u001b[0m     \u001b[0mkwargs\u001b[0m\u001b[0;34m.\u001b[0m\u001b[0mupdate\u001b[0m\u001b[0;34m(\u001b[0m\u001b[0mverify\u001b[0m\u001b[0;34m=\u001b[0m\u001b[0mself\u001b[0m\u001b[0;34m.\u001b[0m\u001b[0mVERIFY_SSL\u001b[0m\u001b[0;34m)\u001b[0m\u001b[0;34m\u001b[0m\u001b[0;34m\u001b[0m\u001b[0m\n\u001b[1;32m    115\u001b[0m     \u001b[0mresponse\u001b[0m \u001b[0;34m=\u001b[0m \u001b[0mgetattr\u001b[0m\u001b[0;34m(\u001b[0m\u001b[0mself\u001b[0m\u001b[0;34m.\u001b[0m\u001b[0msession\u001b[0m\u001b[0;34m,\u001b[0m \u001b[0mmethod\u001b[0m\u001b[0;34m)\u001b[0m\u001b[0;34m(\u001b[0m\u001b[0muri\u001b[0m\u001b[0;34m,\u001b[0m \u001b[0;34m**\u001b[0m\u001b[0mkwargs\u001b[0m\u001b[0;34m)\u001b[0m\u001b[0;34m\u001b[0m\u001b[0;34m\u001b[0m\u001b[0m\n\u001b[0;32m--> 116\u001b[0;31m     \u001b[0;32mreturn\u001b[0m \u001b[0mself\u001b[0m\u001b[0;34m.\u001b[0m\u001b[0m_handle_response\u001b[0m\u001b[0;34m(\u001b[0m\u001b[0mresponse\u001b[0m\u001b[0;34m)\u001b[0m\u001b[0;34m\u001b[0m\u001b[0;34m\u001b[0m\u001b[0m\n\u001b[0m\u001b[1;32m    117\u001b[0m \u001b[0;34m\u001b[0m\u001b[0m\n\u001b[1;32m    118\u001b[0m   \u001b[0;32mdef\u001b[0m \u001b[0m_handle_response\u001b[0m\u001b[0;34m(\u001b[0m\u001b[0mself\u001b[0m\u001b[0;34m,\u001b[0m \u001b[0mresponse\u001b[0m\u001b[0;34m)\u001b[0m\u001b[0;34m:\u001b[0m\u001b[0;34m\u001b[0m\u001b[0;34m\u001b[0m\u001b[0m\n",
      "\u001b[0;32m/opt/homebrew/anaconda3/lib/python3.8/site-packages/coinbase/wallet/client.py\u001b[0m in \u001b[0;36m_handle_response\u001b[0;34m(self, response)\u001b[0m\n\u001b[1;32m    123\u001b[0m     \"\"\"\n\u001b[1;32m    124\u001b[0m     \u001b[0;32mif\u001b[0m \u001b[0;32mnot\u001b[0m \u001b[0mstr\u001b[0m\u001b[0;34m(\u001b[0m\u001b[0mresponse\u001b[0m\u001b[0;34m.\u001b[0m\u001b[0mstatus_code\u001b[0m\u001b[0;34m)\u001b[0m\u001b[0;34m.\u001b[0m\u001b[0mstartswith\u001b[0m\u001b[0;34m(\u001b[0m\u001b[0;34m'2'\u001b[0m\u001b[0;34m)\u001b[0m\u001b[0;34m:\u001b[0m\u001b[0;34m\u001b[0m\u001b[0;34m\u001b[0m\u001b[0m\n\u001b[0;32m--> 125\u001b[0;31m       \u001b[0;32mraise\u001b[0m \u001b[0mbuild_api_error\u001b[0m\u001b[0;34m(\u001b[0m\u001b[0mresponse\u001b[0m\u001b[0;34m)\u001b[0m\u001b[0;34m\u001b[0m\u001b[0;34m\u001b[0m\u001b[0m\n\u001b[0m\u001b[1;32m    126\u001b[0m     \u001b[0;32mreturn\u001b[0m \u001b[0mresponse\u001b[0m\u001b[0;34m\u001b[0m\u001b[0;34m\u001b[0m\u001b[0m\n\u001b[1;32m    127\u001b[0m \u001b[0;34m\u001b[0m\u001b[0m\n",
      "\u001b[0;31mAuthenticationError\u001b[0m: APIError(id=authentication_error): invalid api key"
     ]
    }
   ],
   "source": [
    "coinbase_API_key = Coinbase_API\n",
    "coinbase_API_secret = Coinbase_secret\n",
    "client = Client(coinbase_API_key, coinbase_API_secret)\n",
    "\n",
    "total = 0\n",
    "message = []\n",
    "\n",
    "accounts = client.get_accounts()\n",
    "for wallet in accounts.data:\n",
    "    message.append( str(wallet['name']) + ' ' +   str(wallet['native_balance']) )\n",
    "    value = str( wallet['native_balance']).replace('USD','')\n",
    "    total += float(value)\n",
    "message.append( 'Total Balance: ' + 'USD ' + str(total) )\n",
    "print ('\\n'.join( message ))"
   ]
  },
  {
   "cell_type": "code",
   "execution_count": 8,
   "metadata": {},
   "outputs": [],
   "source": [
    "class TextWebsocketClient(cbpro.WebsocketClient):\n",
    "    def on_open(self):  \n",
    "        self.url = 'wss://ws-feed.exchange.coinbase.com'\n",
    "        self.message_count = 0\n",
    "    \n",
    "    def on_message(self,msg):\n",
    "        self.message_count =+ 1\n",
    "        msg_type = msg.get('type', None)\n",
    "        if msg_type == 'ticker':\n",
    "            time_val = msg.get('time',('-'*27))\n",
    "            price_val = msg.get('price', None)\n",
    "            price_val = float(price_val) if price_val is not None else 'None'\n",
    "            product_id = msg.get('product_id', None)\n",
    "            \n",
    "            print(f'{time_val:30} {price_val:3f} {product_id}\\tchannel type:{msg_type}')\n",
    "    \n",
    "    def on_close(self):\n",
    "        print(f'<---Websocket connection closed--->\\n\\tTotal messages: {self.message_count}')"
   ]
  },
  {
   "cell_type": "code",
   "execution_count": 10,
   "metadata": {},
   "outputs": [
    {
     "name": "stdout",
     "output_type": "stream",
     "text": [
      "2022-03-03T01:51:16.954668Z    2944.210000 ETH-USD\tchannel type:ticker\n",
      "2022-03-03T01:51:17.502363Z    2944.030000 ETH-USD\tchannel type:ticker\n",
      "2022-03-03T01:51:17.668816Z    2944.000000 ETH-USD\tchannel type:ticker\n",
      "2022-03-03T01:51:17.668816Z    2944.000000 ETH-USD\tchannel type:ticker\n",
      "2022-03-03T01:51:17.668816Z    2943.990000 ETH-USD\tchannel type:ticker\n",
      "2022-03-03T01:51:17.668816Z    2943.990000 ETH-USD\tchannel type:ticker\n",
      "2022-03-03T01:51:17.668816Z    2943.980000 ETH-USD\tchannel type:ticker\n",
      "2022-03-03T01:51:18.124579Z    2943.910000 ETH-USD\tchannel type:ticker\n",
      "2022-03-03T01:51:18.124579Z    2943.900000 ETH-USD\tchannel type:ticker\n",
      "2022-03-03T01:51:18.140373Z    2943.890000 ETH-USD\tchannel type:ticker\n",
      "2022-03-03T01:51:18.735510Z    2943.480000 ETH-USD\tchannel type:ticker\n",
      "2022-03-03T01:51:19.902561Z    2943.280000 ETH-USD\tchannel type:ticker\n",
      "2022-03-03T01:51:19.902561Z    2943.650000 ETH-USD\tchannel type:ticker\n",
      "2022-03-03T01:51:19.933940Z    2943.640000 ETH-USD\tchannel type:ticker\n",
      "2022-03-03T01:51:19.933940Z    2943.670000 ETH-USD\tchannel type:ticker\n",
      "2022-03-03T01:51:20.399100Z    2943.590000 ETH-USD\tchannel type:ticker\n",
      "2022-03-03T01:51:20.399100Z    2943.580000 ETH-USD\tchannel type:ticker\n",
      "2022-03-03T01:51:20.561911Z    2943.730000 ETH-USD\tchannel type:ticker\n",
      "2022-03-03T01:51:20.561911Z    2943.730000 ETH-USD\tchannel type:ticker\n",
      "2022-03-03T01:51:20.561911Z    2943.720000 ETH-USD\tchannel type:ticker\n",
      "2022-03-03T01:51:20.561911Z    2943.710000 ETH-USD\tchannel type:ticker\n",
      "2022-03-03T01:51:20.561911Z    2943.710000 ETH-USD\tchannel type:ticker\n",
      "2022-03-03T01:51:21.425374Z    2943.580000 ETH-USD\tchannel type:ticker\n",
      "2022-03-03T01:51:21.425374Z    2943.570000 ETH-USD\tchannel type:ticker\n",
      "2022-03-03T01:51:21.425374Z    2943.570000 ETH-USD\tchannel type:ticker\n",
      "2022-03-03T01:51:21.425374Z    2943.550000 ETH-USD\tchannel type:ticker\n",
      "2022-03-03T01:51:21.425374Z    2943.220000 ETH-USD\tchannel type:ticker\n",
      "2022-03-03T01:51:21.425374Z    2943.180000 ETH-USD\tchannel type:ticker\n",
      "2022-03-03T01:51:21.425374Z    2943.170000 ETH-USD\tchannel type:ticker\n",
      "2022-03-03T01:51:22.124571Z    2943.730000 ETH-USD\tchannel type:ticker\n",
      "2022-03-03T01:51:22.124571Z    2943.730000 ETH-USD\tchannel type:ticker\n",
      "2022-03-03T01:51:22.124571Z    2943.730000 ETH-USD\tchannel type:ticker\n",
      "2022-03-03T01:51:22.124571Z    2943.730000 ETH-USD\tchannel type:ticker\n",
      "2022-03-03T01:51:22.124571Z    2944.230000 ETH-USD\tchannel type:ticker\n",
      "2022-03-03T01:51:23.279394Z    2943.740000 ETH-USD\tchannel type:ticker\n",
      "2022-03-03T01:51:23.279394Z    2943.750000 ETH-USD\tchannel type:ticker\n",
      "2022-03-03T01:51:23.279394Z    2943.760000 ETH-USD\tchannel type:ticker\n",
      "2022-03-03T01:51:23.279394Z    2944.060000 ETH-USD\tchannel type:ticker\n",
      "2022-03-03T01:51:24.298433Z    2944.060000 ETH-USD\tchannel type:ticker\n",
      "2022-03-03T01:51:24.298433Z    2944.060000 ETH-USD\tchannel type:ticker\n",
      "2022-03-03T01:51:24.298433Z    2944.070000 ETH-USD\tchannel type:ticker\n",
      "2022-03-03T01:51:24.298433Z    2944.080000 ETH-USD\tchannel type:ticker\n",
      "2022-03-03T01:51:24.530416Z    2944.090000 ETH-USD\tchannel type:ticker\n",
      "2022-03-03T01:51:26.664136Z    2944.090000 ETH-USD\tchannel type:ticker\n",
      "2022-03-03T01:51:26.684199Z    2944.090000 ETH-USD\tchannel type:ticker\n",
      "2022-03-03T01:51:26.684199Z    2944.090000 ETH-USD\tchannel type:ticker\n",
      "2022-03-03T01:51:26.684199Z    2944.090000 ETH-USD\tchannel type:ticker\n",
      "2022-03-03T01:51:26.684199Z    2944.090000 ETH-USD\tchannel type:ticker\n",
      "2022-03-03T01:51:26.874402Z    2944.090000 ETH-USD\tchannel type:ticker\n",
      "2022-03-03T01:51:26.874402Z    2944.090000 ETH-USD\tchannel type:ticker\n",
      "2022-03-03T01:51:26.874402Z    2944.090000 ETH-USD\tchannel type:ticker\n",
      "2022-03-03T01:51:27.346797Z    2943.970000 ETH-USD\tchannel type:ticker\n",
      "2022-03-03T01:51:27.346797Z    2943.970000 ETH-USD\tchannel type:ticker\n",
      "2022-03-03T01:51:27.346797Z    2943.980000 ETH-USD\tchannel type:ticker\n",
      "2022-03-03T01:51:28.826514Z    2943.910000 ETH-USD\tchannel type:ticker\n",
      "2022-03-03T01:51:28.826514Z    2943.910000 ETH-USD\tchannel type:ticker\n",
      "2022-03-03T01:51:28.826514Z    2943.910000 ETH-USD\tchannel type:ticker\n",
      "2022-03-03T01:51:28.826514Z    2943.910000 ETH-USD\tchannel type:ticker\n",
      "2022-03-03T01:51:29.282811Z    2943.910000 ETH-USD\tchannel type:ticker\n",
      "2022-03-03T01:51:29.627062Z    2943.900000 ETH-USD\tchannel type:ticker\n",
      "2022-03-03T01:51:29.627062Z    2943.900000 ETH-USD\tchannel type:ticker\n",
      "2022-03-03T01:51:29.627062Z    2943.900000 ETH-USD\tchannel type:ticker\n",
      "2022-03-03T01:51:29.627062Z    2943.900000 ETH-USD\tchannel type:ticker\n",
      "2022-03-03T01:51:29.627062Z    2943.890000 ETH-USD\tchannel type:ticker\n",
      "2022-03-03T01:51:30.464231Z    2943.900000 ETH-USD\tchannel type:ticker\n",
      "2022-03-03T01:51:30.464231Z    2943.900000 ETH-USD\tchannel type:ticker\n",
      "2022-03-03T01:51:30.464231Z    2943.900000 ETH-USD\tchannel type:ticker\n",
      "2022-03-03T01:51:30.464231Z    2943.910000 ETH-USD\tchannel type:ticker\n",
      "2022-03-03T01:51:31.630607Z    2943.900000 ETH-USD\tchannel type:ticker\n",
      "2022-03-03T01:51:31.630607Z    2943.900000 ETH-USD\tchannel type:ticker\n",
      "2022-03-03T01:51:31.630607Z    2943.900000 ETH-USD\tchannel type:ticker\n",
      "2022-03-03T01:51:31.630607Z    2943.900000 ETH-USD\tchannel type:ticker\n",
      "2022-03-03T01:51:31.630607Z    2943.890000 ETH-USD\tchannel type:ticker\n",
      "2022-03-03T01:51:32.014001Z    2943.690000 ETH-USD\tchannel type:ticker\n",
      "2022-03-03T01:51:32.014001Z    2943.690000 ETH-USD\tchannel type:ticker\n",
      "2022-03-03T01:51:32.034298Z    2943.680000 ETH-USD\tchannel type:ticker\n",
      "2022-03-03T01:51:32.034298Z    2943.670000 ETH-USD\tchannel type:ticker\n",
      "2022-03-03T01:51:32.034298Z    2943.670000 ETH-USD\tchannel type:ticker\n",
      "2022-03-03T01:51:32.876645Z    2943.560000 ETH-USD\tchannel type:ticker\n",
      "2022-03-03T01:51:32.876645Z    2943.560000 ETH-USD\tchannel type:ticker\n",
      "2022-03-03T01:51:32.876815Z    2943.540000 ETH-USD\tchannel type:ticker\n",
      "2022-03-03T01:51:32.876815Z    2943.530000 ETH-USD\tchannel type:ticker\n",
      "2022-03-03T01:51:32.904295Z    2943.470000 ETH-USD\tchannel type:ticker\n",
      "2022-03-03T01:51:33.139357Z    2943.270000 ETH-USD\tchannel type:ticker\n",
      "2022-03-03T01:51:33.139357Z    2943.320000 ETH-USD\tchannel type:ticker\n",
      "2022-03-03T01:51:33.801161Z    2942.960000 ETH-USD\tchannel type:ticker\n",
      "2022-03-03T01:51:33.801161Z    2942.960000 ETH-USD\tchannel type:ticker\n",
      "2022-03-03T01:51:33.801161Z    2942.950000 ETH-USD\tchannel type:ticker\n",
      "2022-03-03T01:51:33.801161Z    2942.940000 ETH-USD\tchannel type:ticker\n",
      "2022-03-03T01:51:33.801161Z    2942.760000 ETH-USD\tchannel type:ticker\n",
      "2022-03-03T01:51:33.801161Z    2942.750000 ETH-USD\tchannel type:ticker\n",
      "2022-03-03T01:51:35.503909Z    2942.810000 ETH-USD\tchannel type:ticker\n",
      "2022-03-03T01:51:35.503909Z    2942.810000 ETH-USD\tchannel type:ticker\n",
      "2022-03-03T01:51:36.420512Z    2942.820000 ETH-USD\tchannel type:ticker\n",
      "2022-03-03T01:51:36.420512Z    2942.820000 ETH-USD\tchannel type:ticker\n",
      "2022-03-03T01:51:36.420512Z    2942.820000 ETH-USD\tchannel type:ticker\n",
      "2022-03-03T01:51:36.420512Z    2943.230000 ETH-USD\tchannel type:ticker\n",
      "2022-03-03T01:51:37.242128Z    2942.890000 ETH-USD\tchannel type:ticker\n",
      "2022-03-03T01:51:37.242128Z    2943.150000 ETH-USD\tchannel type:ticker\n",
      "2022-03-03T01:51:37.242128Z    2943.210000 ETH-USD\tchannel type:ticker\n",
      "2022-03-03T01:51:37.242128Z    2943.220000 ETH-USD\tchannel type:ticker\n",
      "2022-03-03T01:51:37.242128Z    2943.230000 ETH-USD\tchannel type:ticker\n",
      "2022-03-03T01:51:38.354612Z    2943.030000 ETH-USD\tchannel type:ticker\n",
      "2022-03-03T01:51:38.354612Z    2943.030000 ETH-USD\tchannel type:ticker\n",
      "2022-03-03T01:51:38.354612Z    2943.020000 ETH-USD\tchannel type:ticker\n",
      "2022-03-03T01:51:38.354612Z    2943.010000 ETH-USD\tchannel type:ticker\n"
     ]
    }
   ],
   "source": [
    "stream = TextWebsocketClient(products=['ETH-USD'], channels=['ticker'])\n",
    "stream.start()"
   ]
  },
  {
   "cell_type": "code",
   "execution_count": 12,
   "metadata": {},
   "outputs": [
    {
     "name": "stdout",
     "output_type": "stream",
     "text": [
      "2022-03-03T01:52:14.580326Z    2943.080000 ETH-USD\tchannel type:ticker\n",
      "<---Websocket connection closed--->\n",
      "\tTotal messages: 1\n"
     ]
    }
   ],
   "source": [
    "stream.close()"
   ]
  },
  {
   "cell_type": "code",
   "execution_count": null,
   "metadata": {},
   "outputs": [],
   "source": []
  }
 ],
 "metadata": {
  "kernelspec": {
   "display_name": "Python 3",
   "language": "python",
   "name": "python3"
  },
  "language_info": {
   "codemirror_mode": {
    "name": "ipython",
    "version": 3
   },
   "file_extension": ".py",
   "mimetype": "text/x-python",
   "name": "python",
   "nbconvert_exporter": "python",
   "pygments_lexer": "ipython3",
   "version": "3.8.5"
  }
 },
 "nbformat": 4,
 "nbformat_minor": 4
}
