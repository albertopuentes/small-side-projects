{
 "cells": [
  {
   "cell_type": "code",
   "execution_count": 20,
   "metadata": {},
   "outputs": [],
   "source": [
    "import cbpro\n",
    "import pandas as pd\n",
    "\n",
    "from api import Coinbase_API\n",
    "from api import Coinbase_secret\n",
    "from api import Coinbase_pass\n",
    "\n",
    "api_key = Coinbase_API\n",
    "api_secret = Coinbase_secret\n",
    "api_pass = Coinbase_pass\n",
    "\n",
    "from coinbase.wallet.client import Client"
   ]
  },
  {
   "cell_type": "code",
   "execution_count": 153,
   "metadata": {},
   "outputs": [
    {
     "name": "stdout",
     "output_type": "stream",
     "text": [
      "ADA 0.01\n",
      "AVAX 0.0007\n",
      "DASH 0.0002\n",
      "LINK 0.0\n",
      "SHIB 318167743.0\n",
      "USD 0.0\n",
      "USDC 0.0\n",
      "USDT 0.0029\n",
      "ZEC 0.0\n",
      "Total Balance: USD 318167743.0138\n"
     ]
    }
   ],
   "source": [
    "url = 'https://api.pro.coinbase.com'\n",
    "client = cbpro.AuthenticatedClient(\n",
    "    api_key,\n",
    "    api_secret,\n",
    "    api_pass,\n",
    "    api_url = url)\n",
    "\n",
    "total = 0\n",
    "message = []\n",
    "\n",
    "accounts = client.get_accounts()\n",
    "for wallet in accounts:\n",
    "    if wallet['balance'] > '0.0000000000000000':\n",
    "        message.append(str(wallet['currency']) + ' ' + str(round(float((wallet['balance'])),4)))\n",
    "    value = str(wallet['balance']).replace('USD','')\n",
    "    total += round(float(value), 4)\n",
    "#message.append('Total Balance: ' + 'USD ' + str(total))\n",
    "print ('\\n'.join( message ))\n",
    "print('Total Balance: ' + 'USD ' + str(total))"
   ]
  },
  {
   "cell_type": "code",
   "execution_count": 144,
   "metadata": {},
   "outputs": [],
   "source": [
    "class TextWebsocketClient(cbpro.WebsocketClient):\n",
    "    def on_open(self):  \n",
    "        self.url = 'wss://ws-feed.prime.coinbase.com'\n",
    "        self.message_count = 0\n",
    "    \n",
    "    def on_message(self,msg):\n",
    "        self.message_count =+ 1\n",
    "        msg_type = msg.get('type', None)\n",
    "        if msg_type == 'ticker':\n",
    "            time_val = msg.get('time',('-'*27))\n",
    "            price_val = msg.get('price', None)\n",
    "            price_val = float(price_val) if price_val is not None else 'None'\n",
    "            product_id = msg.get('product_id', None)\n",
    "            \n",
    "            print(f'{time_val:30} {price_val:3f} {product_id}\\tchannel type:{msg_type}')\n",
    "    \n",
    "    def on_close(self):\n",
    "        print(f'<---Websocket connection closed--->\\n\\tTotal messages: {self.message_count}')"
   ]
  },
  {
   "cell_type": "code",
   "execution_count": 146,
   "metadata": {},
   "outputs": [],
   "source": [
    "stream = TextWebsocketClient(products=['ETH-USD'],channels=['ticker'])\n"
   ]
  },
  {
   "cell_type": "markdown",
   "metadata": {},
   "source": [
    "### Authenticated Client"
   ]
  },
  {
   "cell_type": "code",
   "execution_count": 32,
   "metadata": {},
   "outputs": [],
   "source": [
    "from api import Coinbase_API\n",
    "from api import Coinbase_secret\n",
    "from api import Coinbase_pass\n",
    "\n",
    "api_key = Coinbase_API\n",
    "api_secret = Coinbase_secret\n",
    "api_pass = Coinbase_pass"
   ]
  },
  {
   "cell_type": "code",
   "execution_count": 33,
   "metadata": {},
   "outputs": [],
   "source": [
    "url = 'https://api.pro.coinbase.com'\n",
    "client = cbpro.AuthenticatedClient(\n",
    "    api_key,\n",
    "    api_secret,\n",
    "    api_pass,\n",
    "    api_url = url)"
   ]
  },
  {
   "cell_type": "code",
   "execution_count": 34,
   "metadata": {},
   "outputs": [],
   "source": [
    "accounts = client.get_accounts()"
   ]
  },
  {
   "cell_type": "code",
   "execution_count": 57,
   "metadata": {},
   "outputs": [],
   "source": [
    "for acc in accounts:\n",
    "    currency = acc.get('currency')\n",
    "    if currency == 'SHIB':\n",
    "        acc_id = acc.get('id')"
   ]
  },
  {
   "cell_type": "code",
   "execution_count": 58,
   "metadata": {},
   "outputs": [],
   "source": [
    "acc_history = client.get_account_history(acc_id)"
   ]
  },
  {
   "cell_type": "code",
   "execution_count": 60,
   "metadata": {},
   "outputs": [],
   "source": [
    "import json\n",
    "\n",
    "for hist in acc_history:\n",
    "    print(json.dumps(hist, indent=1))\n",
    "    "
   ]
  },
  {
   "cell_type": "code",
   "execution_count": null,
   "metadata": {},
   "outputs": [],
   "source": []
  }
 ],
 "metadata": {
  "kernelspec": {
   "display_name": "Python 3",
   "language": "python",
   "name": "python3"
  },
  "language_info": {
   "codemirror_mode": {
    "name": "ipython",
    "version": 3
   },
   "file_extension": ".py",
   "mimetype": "text/x-python",
   "name": "python",
   "nbconvert_exporter": "python",
   "pygments_lexer": "ipython3",
   "version": "3.8.5"
  }
 },
 "nbformat": 4,
 "nbformat_minor": 4
}
