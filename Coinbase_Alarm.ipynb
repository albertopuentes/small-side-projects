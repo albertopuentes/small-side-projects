{
 "cells": [
  {
   "cell_type": "code",
   "execution_count": 3,
   "metadata": {},
   "outputs": [],
   "source": [
    "import cbpro\n",
    "import pandas as pd\n",
    "\n",
    "from api import Coinbase_API\n",
    "from api import Coinbase_secret\n",
    "from api import Coinbase_pass\n",
    "\n",
    "api_key = Coinbase_API\n",
    "api_secret = Coinbase_secret\n",
    "api_pass = Coinbase_pass\n",
    "\n",
    "from coinbase.wallet.client import Client"
   ]
  },
  {
   "cell_type": "code",
   "execution_count": 4,
   "metadata": {},
   "outputs": [
    {
     "name": "stdout",
     "output_type": "stream",
     "text": [
      "Help on class WebsocketClient in module cbpro.websocket_client:\n",
      "\n",
      "class WebsocketClient(builtins.object)\n",
      " |  WebsocketClient(url='wss://ws-feed.pro.coinbase.com', products=None, message_type='subscribe', mongo_collection=None, should_print=True, auth=False, api_key='', api_secret='', api_passphrase='', channels=None)\n",
      " |  \n",
      " |  Methods defined here:\n",
      " |  \n",
      " |  __init__(self, url='wss://ws-feed.pro.coinbase.com', products=None, message_type='subscribe', mongo_collection=None, should_print=True, auth=False, api_key='', api_secret='', api_passphrase='', channels=None)\n",
      " |      Initialize self.  See help(type(self)) for accurate signature.\n",
      " |  \n",
      " |  close(self)\n",
      " |  \n",
      " |  on_close(self)\n",
      " |  \n",
      " |  on_error(self, e, data=None)\n",
      " |  \n",
      " |  on_message(self, msg)\n",
      " |  \n",
      " |  on_open(self)\n",
      " |  \n",
      " |  start(self)\n",
      " |  \n",
      " |  ----------------------------------------------------------------------\n",
      " |  Data descriptors defined here:\n",
      " |  \n",
      " |  __dict__\n",
      " |      dictionary for instance variables (if defined)\n",
      " |  \n",
      " |  __weakref__\n",
      " |      list of weak references to the object (if defined)\n",
      "\n"
     ]
    }
   ],
   "source": [
    "help(cbpro.WebsocketClient)"
   ]
  },
  {
   "cell_type": "code",
   "execution_count": 5,
   "metadata": {},
   "outputs": [
    {
     "ename": "NameError",
     "evalue": "name 'client' is not defined",
     "output_type": "error",
     "traceback": [
      "\u001b[0;31m---------------------------------------------------------------------------\u001b[0m",
      "\u001b[0;31mNameError\u001b[0m                                 Traceback (most recent call last)",
      "\u001b[0;32m<ipython-input-5-0055de52face>\u001b[0m in \u001b[0;36m<module>\u001b[0;34m\u001b[0m\n\u001b[0;32m----> 1\u001b[0;31m \u001b[0mhelp\u001b[0m\u001b[0;34m(\u001b[0m\u001b[0mclient\u001b[0m\u001b[0;34m)\u001b[0m\u001b[0;34m\u001b[0m\u001b[0;34m\u001b[0m\u001b[0m\n\u001b[0m",
      "\u001b[0;31mNameError\u001b[0m: name 'client' is not defined"
     ]
    }
   ],
   "source": [
    "help(client)"
   ]
  },
  {
   "cell_type": "code",
   "execution_count": 9,
   "metadata": {},
   "outputs": [
    {
     "name": "stdout",
     "output_type": "stream",
     "text": [
      "ADA 0.01\n",
      "AVAX 0.0007\n",
      "DASH 0.0002\n",
      "LINK 0.0\n",
      "USD 0.0076\n",
      "USDC 0.0\n",
      "USDT 0.0029\n",
      "ZEC 0.0\n",
      "Total Balance: USD 0.0214\n"
     ]
    }
   ],
   "source": [
    "url = 'https://api.pro.coinbase.com'\n",
    "client = cbpro.AuthenticatedClient(\n",
    "    api_key,\n",
    "    api_secret,\n",
    "    api_pass,\n",
    "    api_url = url)\n",
    "\n",
    "total = 0\n",
    "message = []\n",
    "\n",
    "accounts = client.get_accounts()\n",
    "for wallet in accounts:\n",
    "    if wallet['balance'] > '0.0000000000000000':\n",
    "        message.append(str(wallet['currency']) + ' ' + str(round(float(wallet['balance']),4)))\n",
    "    value = str(wallet['balance']).replace('USD','')\n",
    "    total += round(float(value), 4)\n",
    "#message.append('Total Balance: ' + 'USD ' + str(total))\n",
    "print ('\\n'.join( message ))\n",
    "print('Total Balance: ' + 'USD ' + str(total))"
   ]
  },
  {
   "cell_type": "code",
   "execution_count": 10,
   "metadata": {},
   "outputs": [],
   "source": [
    "class TextWebsocketClient(cbpro.WebsocketClient):\n",
    "    def on_open(self):  \n",
    "        self.url = 'wss://ws-feed.prime.coinbase.com'\n",
    "        self.message_count = 0\n",
    "    \n",
    "    def on_message(self,msg):\n",
    "        self.message_count =+ 1\n",
    "        msg_type = msg.get('type', None)\n",
    "        if msg_type == 'ticker':\n",
    "            time_val = msg.get('time',('-'*27))\n",
    "            price_val = msg.get('price', None)\n",
    "            price_val = float(price_val) if price_val is not None else 'None'\n",
    "            product_id = msg.get('product_id', None)\n",
    "            \n",
    "            print(f'{time_val:30} {price_val:3f} {product_id}\\tchannel type:{msg_type}')\n",
    "    \n",
    "    def on_close(self):\n",
    "        print(f'<---Websocket connection closed--->\\n\\tTotal messages: {self.message_count}')"
   ]
  },
  {
   "cell_type": "code",
   "execution_count": null,
   "metadata": {},
   "outputs": [],
   "source": [
    "stream = TextWebsocketClient(products=['ETH-USD'],channels=['ticker'])"
   ]
  },
  {
   "cell_type": "code",
   "execution_count": null,
   "metadata": {},
   "outputs": [],
   "source": [
    "help(stream)"
   ]
  },
  {
   "cell_type": "code",
   "execution_count": null,
   "metadata": {},
   "outputs": [
    {
     "name": "stdout",
     "output_type": "stream",
     "text": [
      "wss://ws-feed.pro.coinbase.com ['ETH-USDT'] ['ticker']\n",
      "\n",
      "message_count = 0 \n",
      "\n",
      "Message type: ticker \t@ 3401.690\n",
      "\n",
      "message_count = 2 \n",
      "\n",
      "\n",
      "message_count = 2 \n",
      "\n",
      "\n",
      "message_count = 2 \n",
      "\n",
      "\n",
      "message_count = 2 \n",
      "\n",
      "\n",
      "message_count = 2 \n",
      "\n",
      "\n",
      "message_count = 2 \n",
      "\n",
      "\n",
      "message_count = 2 \n",
      "\n",
      "\n",
      "message_count = 2 \n",
      "\n",
      "\n",
      "message_count = 2 \n",
      "\n",
      "\n",
      "message_count = 2 \n",
      "\n",
      "\n",
      "message_count = 2 \n",
      "\n",
      "\n",
      "message_count = 2 \n",
      "\n",
      "\n",
      "message_count = 2 \n",
      "\n",
      "Message type: ticker \t@ 3402.610\n",
      "Message type: ticker \t@ 3402.970\n",
      "\n",
      "message_count = 4 \n",
      "\n",
      "\n",
      "message_count = 4 \n",
      "\n",
      "\n",
      "message_count = 4 \n",
      "\n",
      "\n",
      "message_count = 4 \n",
      "\n",
      "\n",
      "message_count = 4 \n",
      "\n",
      "\n",
      "message_count = 4 \n",
      "\n",
      "\n",
      "message_count = 4 \n",
      "\n",
      "\n",
      "message_count = 4 \n",
      "\n",
      "\n",
      "message_count = 4 \n",
      "\n",
      "\n",
      "message_count = 4 \n",
      "\n",
      "\n",
      "message_count = 4 \n",
      "\n",
      "\n",
      "message_count = 4 \n",
      "\n",
      "\n",
      "message_count = 4 \n",
      "\n",
      "\n",
      "message_count = 4 \n",
      "\n",
      "\n",
      "message_count = 4 \n",
      "\n",
      "\n",
      "message_count = 4 \n",
      "\n",
      "\n",
      "message_count = 4 \n",
      "\n",
      "\n",
      "message_count = 4 \n",
      "\n"
     ]
    }
   ],
   "source": [
    "import time, cbpro\n",
    "class myWebsocketClient(cbpro.WebsocketClient):\n",
    "    def on_open(self):\n",
    "        self.url = \"wss://ws-feed.pro.coinbase.com/\"\n",
    "        self.products = [\"ETH-USDT\"]\n",
    "        self.channels=[\"ticker\"]\n",
    "        self.message_count = 0\n",
    "    def on_message(self, msg):\n",
    "        self.message_count += 1\n",
    "        if 'price' in msg and 'type' in msg:\n",
    "            print (\"Message type:\", msg[\"type\"],\n",
    "                   \"\\t@ {:.3f}\".format(float(msg[\"price\"])))\n",
    "    def on_close(self):\n",
    "        print(\"Closing\")\n",
    "\n",
    "wsClient = myWebsocketClient()\n",
    "wsClient.start()\n",
    "print(wsClient.url, wsClient.products, wsClient.channels)\n",
    "while (wsClient.message_count < 50):\n",
    "    print (\"\\nmessage_count =\", \"{} \\n\".format(wsClient.message_count))\n",
    "    time.sleep(1)\n",
    "wsClient.close()"
   ]
  },
  {
   "cell_type": "markdown",
   "metadata": {},
   "source": [
    "### Authenticated Client"
   ]
  },
  {
   "cell_type": "code",
   "execution_count": null,
   "metadata": {},
   "outputs": [],
   "source": [
    "from api import Coinbase_API\n",
    "from api import Coinbase_secret\n",
    "from api import Coinbase_pass\n",
    "\n",
    "api_key = Coinbase_API\n",
    "api_secret = Coinbase_secret\n",
    "api_pass = Coinbase_pass"
   ]
  },
  {
   "cell_type": "code",
   "execution_count": null,
   "metadata": {},
   "outputs": [],
   "source": [
    "url = 'https://api.pro.coinbase.com'\n",
    "client = cbpro.AuthenticatedClient(\n",
    "    api_key,\n",
    "    api_secret,\n",
    "    api_pass,\n",
    "    api_url = url)"
   ]
  },
  {
   "cell_type": "code",
   "execution_count": null,
   "metadata": {},
   "outputs": [],
   "source": [
    "accounts = client.get_accounts()"
   ]
  },
  {
   "cell_type": "code",
   "execution_count": 6,
   "metadata": {},
   "outputs": [
    {
     "ename": "NameError",
     "evalue": "name 'accounts' is not defined",
     "output_type": "error",
     "traceback": [
      "\u001b[0;31m---------------------------------------------------------------------------\u001b[0m",
      "\u001b[0;31mNameError\u001b[0m                                 Traceback (most recent call last)",
      "\u001b[0;32m<ipython-input-6-0c057cc56255>\u001b[0m in \u001b[0;36m<module>\u001b[0;34m\u001b[0m\n\u001b[0;32m----> 1\u001b[0;31m \u001b[0;32mfor\u001b[0m \u001b[0macc\u001b[0m \u001b[0;32min\u001b[0m \u001b[0maccounts\u001b[0m\u001b[0;34m:\u001b[0m\u001b[0;34m\u001b[0m\u001b[0;34m\u001b[0m\u001b[0m\n\u001b[0m\u001b[1;32m      2\u001b[0m     \u001b[0mcurrency\u001b[0m \u001b[0;34m=\u001b[0m \u001b[0macc\u001b[0m\u001b[0;34m.\u001b[0m\u001b[0mget\u001b[0m\u001b[0;34m(\u001b[0m\u001b[0;34m'currency'\u001b[0m\u001b[0;34m)\u001b[0m\u001b[0;34m\u001b[0m\u001b[0;34m\u001b[0m\u001b[0m\n\u001b[1;32m      3\u001b[0m     \u001b[0;32mif\u001b[0m \u001b[0mcurrency\u001b[0m \u001b[0;34m==\u001b[0m \u001b[0;34m'SHIB'\u001b[0m\u001b[0;34m:\u001b[0m\u001b[0;34m\u001b[0m\u001b[0;34m\u001b[0m\u001b[0m\n\u001b[1;32m      4\u001b[0m         \u001b[0macc_id\u001b[0m \u001b[0;34m=\u001b[0m \u001b[0macc\u001b[0m\u001b[0;34m.\u001b[0m\u001b[0mget\u001b[0m\u001b[0;34m(\u001b[0m\u001b[0;34m'id'\u001b[0m\u001b[0;34m)\u001b[0m\u001b[0;34m\u001b[0m\u001b[0;34m\u001b[0m\u001b[0m\n",
      "\u001b[0;31mNameError\u001b[0m: name 'accounts' is not defined"
     ]
    }
   ],
   "source": [
    "for acc in accounts:\n",
    "    currency = acc.get('currency')\n",
    "    if currency == 'SHIB':\n",
    "        acc_id = acc.get('id')"
   ]
  },
  {
   "cell_type": "code",
   "execution_count": 7,
   "metadata": {},
   "outputs": [
    {
     "ename": "NameError",
     "evalue": "name 'client' is not defined",
     "output_type": "error",
     "traceback": [
      "\u001b[0;31m---------------------------------------------------------------------------\u001b[0m",
      "\u001b[0;31mNameError\u001b[0m                                 Traceback (most recent call last)",
      "\u001b[0;32m<ipython-input-7-eb7d9af0e8db>\u001b[0m in \u001b[0;36m<module>\u001b[0;34m\u001b[0m\n\u001b[0;32m----> 1\u001b[0;31m \u001b[0macc_history\u001b[0m \u001b[0;34m=\u001b[0m \u001b[0mclient\u001b[0m\u001b[0;34m.\u001b[0m\u001b[0mget_account_history\u001b[0m\u001b[0;34m(\u001b[0m\u001b[0macc_id\u001b[0m\u001b[0;34m)\u001b[0m\u001b[0;34m\u001b[0m\u001b[0;34m\u001b[0m\u001b[0m\n\u001b[0m",
      "\u001b[0;31mNameError\u001b[0m: name 'client' is not defined"
     ]
    }
   ],
   "source": [
    "acc_history = client.get_account_history(acc_id)"
   ]
  },
  {
   "cell_type": "code",
   "execution_count": 8,
   "metadata": {},
   "outputs": [
    {
     "ename": "NameError",
     "evalue": "name 'acc_history' is not defined",
     "output_type": "error",
     "traceback": [
      "\u001b[0;31m---------------------------------------------------------------------------\u001b[0m",
      "\u001b[0;31mNameError\u001b[0m                                 Traceback (most recent call last)",
      "\u001b[0;32m<ipython-input-8-a1443879907f>\u001b[0m in \u001b[0;36m<module>\u001b[0;34m\u001b[0m\n\u001b[1;32m      1\u001b[0m \u001b[0;32mimport\u001b[0m \u001b[0mjson\u001b[0m\u001b[0;34m\u001b[0m\u001b[0;34m\u001b[0m\u001b[0m\n\u001b[1;32m      2\u001b[0m \u001b[0;34m\u001b[0m\u001b[0m\n\u001b[0;32m----> 3\u001b[0;31m \u001b[0;32mfor\u001b[0m \u001b[0mhist\u001b[0m \u001b[0;32min\u001b[0m \u001b[0macc_history\u001b[0m\u001b[0;34m:\u001b[0m\u001b[0;34m\u001b[0m\u001b[0;34m\u001b[0m\u001b[0m\n\u001b[0m\u001b[1;32m      4\u001b[0m     \u001b[0mprint\u001b[0m\u001b[0;34m(\u001b[0m\u001b[0mjson\u001b[0m\u001b[0;34m.\u001b[0m\u001b[0mdumps\u001b[0m\u001b[0;34m(\u001b[0m\u001b[0mhist\u001b[0m\u001b[0;34m,\u001b[0m \u001b[0mindent\u001b[0m\u001b[0;34m=\u001b[0m\u001b[0;36m1\u001b[0m\u001b[0;34m)\u001b[0m\u001b[0;34m)\u001b[0m\u001b[0;34m\u001b[0m\u001b[0;34m\u001b[0m\u001b[0m\n\u001b[1;32m      5\u001b[0m \u001b[0;34m\u001b[0m\u001b[0m\n",
      "\u001b[0;31mNameError\u001b[0m: name 'acc_history' is not defined"
     ]
    }
   ],
   "source": [
    "import json\n",
    "\n",
    "for hist in acc_history:\n",
    "    print(json.dumps(hist, indent=1))\n",
    "    "
   ]
  },
  {
   "cell_type": "markdown",
   "metadata": {},
   "source": [
    "### Public Client"
   ]
  },
  {
   "cell_type": "code",
   "execution_count": 11,
   "metadata": {},
   "outputs": [
    {
     "data": {
      "text/html": [
       "<div>\n",
       "<style scoped>\n",
       "    .dataframe tbody tr th:only-of-type {\n",
       "        vertical-align: middle;\n",
       "    }\n",
       "\n",
       "    .dataframe tbody tr th {\n",
       "        vertical-align: top;\n",
       "    }\n",
       "\n",
       "    .dataframe thead th {\n",
       "        text-align: right;\n",
       "    }\n",
       "</style>\n",
       "<table border=\"1\" class=\"dataframe\">\n",
       "  <thead>\n",
       "    <tr style=\"text-align: right;\">\n",
       "      <th></th>\n",
       "      <th>462</th>\n",
       "      <th>463</th>\n",
       "      <th>464</th>\n",
       "      <th>465</th>\n",
       "      <th>466</th>\n",
       "    </tr>\n",
       "  </thead>\n",
       "  <tbody>\n",
       "    <tr>\n",
       "      <th>id</th>\n",
       "      <td>XRP-GBP</td>\n",
       "      <td>GNT-USDC</td>\n",
       "      <td>XRP-EUR</td>\n",
       "      <td>XRP-BTC</td>\n",
       "      <td>XRP-USD</td>\n",
       "    </tr>\n",
       "    <tr>\n",
       "      <th>base_currency</th>\n",
       "      <td>XRP</td>\n",
       "      <td>GNT</td>\n",
       "      <td>XRP</td>\n",
       "      <td>XRP</td>\n",
       "      <td>XRP</td>\n",
       "    </tr>\n",
       "    <tr>\n",
       "      <th>quote_currency</th>\n",
       "      <td>GBP</td>\n",
       "      <td>USDC</td>\n",
       "      <td>EUR</td>\n",
       "      <td>BTC</td>\n",
       "      <td>USD</td>\n",
       "    </tr>\n",
       "    <tr>\n",
       "      <th>base_min_size</th>\n",
       "      <td>1</td>\n",
       "      <td>1</td>\n",
       "      <td>1</td>\n",
       "      <td>1</td>\n",
       "      <td>1</td>\n",
       "    </tr>\n",
       "    <tr>\n",
       "      <th>base_max_size</th>\n",
       "      <td>500000</td>\n",
       "      <td>490000</td>\n",
       "      <td>500000</td>\n",
       "      <td>500000</td>\n",
       "      <td>500000</td>\n",
       "    </tr>\n",
       "    <tr>\n",
       "      <th>quote_increment</th>\n",
       "      <td>0.0001</td>\n",
       "      <td>0.000001</td>\n",
       "      <td>0.0001</td>\n",
       "      <td>0.00000001</td>\n",
       "      <td>0.0001</td>\n",
       "    </tr>\n",
       "    <tr>\n",
       "      <th>base_increment</th>\n",
       "      <td>0.000001</td>\n",
       "      <td>1</td>\n",
       "      <td>0.000001</td>\n",
       "      <td>1</td>\n",
       "      <td>0.000001</td>\n",
       "    </tr>\n",
       "    <tr>\n",
       "      <th>display_name</th>\n",
       "      <td>XRP/GBP</td>\n",
       "      <td>GNT/USDC</td>\n",
       "      <td>XRP/EUR</td>\n",
       "      <td>XRP/BTC</td>\n",
       "      <td>XRP/USD</td>\n",
       "    </tr>\n",
       "    <tr>\n",
       "      <th>min_market_funds</th>\n",
       "      <td>10</td>\n",
       "      <td>1</td>\n",
       "      <td>10</td>\n",
       "      <td>0.001</td>\n",
       "      <td>10</td>\n",
       "    </tr>\n",
       "    <tr>\n",
       "      <th>max_market_funds</th>\n",
       "      <td>100000</td>\n",
       "      <td>200000</td>\n",
       "      <td>100000</td>\n",
       "      <td>30</td>\n",
       "      <td>100000</td>\n",
       "    </tr>\n",
       "    <tr>\n",
       "      <th>margin_enabled</th>\n",
       "      <td>False</td>\n",
       "      <td>False</td>\n",
       "      <td>False</td>\n",
       "      <td>False</td>\n",
       "      <td>False</td>\n",
       "    </tr>\n",
       "    <tr>\n",
       "      <th>fx_stablecoin</th>\n",
       "      <td>False</td>\n",
       "      <td>False</td>\n",
       "      <td>False</td>\n",
       "      <td>False</td>\n",
       "      <td>False</td>\n",
       "    </tr>\n",
       "    <tr>\n",
       "      <th>max_slippage_percentage</th>\n",
       "      <td>0.10000000</td>\n",
       "      <td>0.03000000</td>\n",
       "      <td>0.10000000</td>\n",
       "      <td>0.10000000</td>\n",
       "      <td>0.10000000</td>\n",
       "    </tr>\n",
       "    <tr>\n",
       "      <th>post_only</th>\n",
       "      <td>False</td>\n",
       "      <td>False</td>\n",
       "      <td>False</td>\n",
       "      <td>False</td>\n",
       "      <td>False</td>\n",
       "    </tr>\n",
       "    <tr>\n",
       "      <th>limit_only</th>\n",
       "      <td>False</td>\n",
       "      <td>False</td>\n",
       "      <td>False</td>\n",
       "      <td>False</td>\n",
       "      <td>False</td>\n",
       "    </tr>\n",
       "    <tr>\n",
       "      <th>cancel_only</th>\n",
       "      <td>False</td>\n",
       "      <td>False</td>\n",
       "      <td>False</td>\n",
       "      <td>False</td>\n",
       "      <td>False</td>\n",
       "    </tr>\n",
       "    <tr>\n",
       "      <th>trading_disabled</th>\n",
       "      <td>True</td>\n",
       "      <td>True</td>\n",
       "      <td>True</td>\n",
       "      <td>True</td>\n",
       "      <td>True</td>\n",
       "    </tr>\n",
       "    <tr>\n",
       "      <th>status</th>\n",
       "      <td>delisted</td>\n",
       "      <td>delisted</td>\n",
       "      <td>delisted</td>\n",
       "      <td>delisted</td>\n",
       "      <td>delisted</td>\n",
       "    </tr>\n",
       "    <tr>\n",
       "      <th>status_message</th>\n",
       "      <td></td>\n",
       "      <td></td>\n",
       "      <td></td>\n",
       "      <td></td>\n",
       "      <td></td>\n",
       "    </tr>\n",
       "    <tr>\n",
       "      <th>auction_mode</th>\n",
       "      <td>False</td>\n",
       "      <td>False</td>\n",
       "      <td>False</td>\n",
       "      <td>False</td>\n",
       "      <td>False</td>\n",
       "    </tr>\n",
       "  </tbody>\n",
       "</table>\n",
       "</div>"
      ],
      "text/plain": [
       "                                462         463         464         465  \\\n",
       "id                          XRP-GBP    GNT-USDC     XRP-EUR     XRP-BTC   \n",
       "base_currency                   XRP         GNT         XRP         XRP   \n",
       "quote_currency                  GBP        USDC         EUR         BTC   \n",
       "base_min_size                     1           1           1           1   \n",
       "base_max_size                500000      490000      500000      500000   \n",
       "quote_increment              0.0001    0.000001      0.0001  0.00000001   \n",
       "base_increment             0.000001           1    0.000001           1   \n",
       "display_name                XRP/GBP    GNT/USDC     XRP/EUR     XRP/BTC   \n",
       "min_market_funds                 10           1          10       0.001   \n",
       "max_market_funds             100000      200000      100000          30   \n",
       "margin_enabled                False       False       False       False   \n",
       "fx_stablecoin                 False       False       False       False   \n",
       "max_slippage_percentage  0.10000000  0.03000000  0.10000000  0.10000000   \n",
       "post_only                     False       False       False       False   \n",
       "limit_only                    False       False       False       False   \n",
       "cancel_only                   False       False       False       False   \n",
       "trading_disabled               True        True        True        True   \n",
       "status                     delisted    delisted    delisted    delisted   \n",
       "status_message                                                            \n",
       "auction_mode                  False       False       False       False   \n",
       "\n",
       "                                466  \n",
       "id                          XRP-USD  \n",
       "base_currency                   XRP  \n",
       "quote_currency                  USD  \n",
       "base_min_size                     1  \n",
       "base_max_size                500000  \n",
       "quote_increment              0.0001  \n",
       "base_increment             0.000001  \n",
       "display_name                XRP/USD  \n",
       "min_market_funds                 10  \n",
       "max_market_funds             100000  \n",
       "margin_enabled                False  \n",
       "fx_stablecoin                 False  \n",
       "max_slippage_percentage  0.10000000  \n",
       "post_only                     False  \n",
       "limit_only                    False  \n",
       "cancel_only                   False  \n",
       "trading_disabled               True  \n",
       "status                     delisted  \n",
       "status_message                       \n",
       "auction_mode                  False  "
      ]
     },
     "execution_count": 11,
     "metadata": {},
     "output_type": "execute_result"
    }
   ],
   "source": [
    "c = cbpro.PublicClient()\n",
    "\n",
    "data = pd.DataFrame(c.get_products())\n",
    "data.tail().T"
   ]
  },
  {
   "cell_type": "code",
   "execution_count": 13,
   "metadata": {},
   "outputs": [
    {
     "data": {
      "text/plain": [
       "{'ask': '3405.5',\n",
       " 'bid': '3405.38',\n",
       " 'volume': '125336.94050192',\n",
       " 'trade_id': 249129789,\n",
       " 'price': '3405.25',\n",
       " 'size': '0.01375896',\n",
       " 'time': '2022-03-31T03:00:24.802445Z'}"
      ]
     },
     "execution_count": 13,
     "metadata": {},
     "output_type": "execute_result"
    }
   ],
   "source": [
    "ticker = c.get_product_ticker(product_id='ETH-USD')\n",
    "ticker"
   ]
  },
  {
   "cell_type": "code",
   "execution_count": 21,
   "metadata": {},
   "outputs": [
    {
     "data": {
      "text/plain": [
       "{'ask': '1.1966',\n",
       " 'bid': '1.1964',\n",
       " 'volume': '68904401.99',\n",
       " 'trade_id': 65083387,\n",
       " 'price': '1.1966',\n",
       " 'size': '7.49',\n",
       " 'time': '2022-03-31T03:01:48.726815Z'}"
      ]
     },
     "execution_count": 21,
     "metadata": {},
     "output_type": "execute_result"
    }
   ],
   "source": [
    "import requests\n",
    "\n",
    "ticker = requests.get('https://api.pro.coinbase.com/products/ADA-USD/ticker').json()\n",
    "ticker"
   ]
  },
  {
   "cell_type": "code",
   "execution_count": null,
   "metadata": {},
   "outputs": [],
   "source": []
  }
 ],
 "metadata": {
  "kernelspec": {
   "display_name": "Python 3",
   "language": "python",
   "name": "python3"
  },
  "language_info": {
   "codemirror_mode": {
    "name": "ipython",
    "version": 3
   },
   "file_extension": ".py",
   "mimetype": "text/x-python",
   "name": "python",
   "nbconvert_exporter": "python",
   "pygments_lexer": "ipython3",
   "version": "3.8.5"
  }
 },
 "nbformat": 4,
 "nbformat_minor": 4
}
